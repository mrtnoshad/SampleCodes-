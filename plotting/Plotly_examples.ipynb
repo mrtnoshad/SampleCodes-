{
 "cells": [
  {
   "cell_type": "code",
   "execution_count": null,
   "metadata": {},
   "outputs": [],
   "source": [
    "### Plot bar chart and save using plotly"
   ]
  },
  {
   "cell_type": "code",
   "execution_count": null,
   "metadata": {},
   "outputs": [],
   "source": [
    "#plotly\n",
    "# plotly\n",
    "import plotly\n",
    "#import plotly.plotly as py\n",
    "import plotly.graph_objs as go\n",
    "import plotly.express as px\n",
    "\n",
    "fig = px.bar(df, x='Hotel_view', y='num_view', text='num_view')\n",
    "\n",
    "#fig = go.Figure()\n",
    "\n",
    "\n",
    "#.layout.update()\n",
    "fig.update_layout(\n",
    "    title=\"Top Hotel Views\",\n",
    "    xaxis_title=\"<b>Hotels</b>\",\n",
    "    yaxis_title=\"<b>Number of Views</b>\",\n",
    "    font=dict(\n",
    "        \n",
    "        family=\"Courier New, monospace\",\n",
    "        size=18,\n",
    "        color=\"#7f7f7f\"\n",
    "    )\n",
    "    , xaxis_tickangle=30,\n",
    "    margin=dict(l=20, r=20, t=60, b=250)\n",
    ")\n",
    "\n",
    "fig.write_image(\"figures/hotel_top_search.png\", format='png', scale=3, width=800, height=500)\n",
    "fig.show()"
   ]
  },
  {
   "cell_type": "markdown",
   "metadata": {},
   "source": [
    "### Pie Chart"
   ]
  },
  {
   "cell_type": "code",
   "execution_count": null,
   "metadata": {},
   "outputs": [],
   "source": [
    "T = HotelR_Grouped[['IsLogedIn','Booking_conf']].groupby(['IsLogedIn']).mean().reset_index().rename(columns={'Booking_conf':'Booked'}) #, \n",
    "Pie_df_1 = pd.DataFrame({'names':['Booked', 'Not_Booked'], 'values':[T.iloc[0,1], 1 - T.iloc[0,1] ]})\n",
    "print(Pie_df_1)\n",
    "Pie_df_2 = pd.DataFrame({'names':['Booked', 'Not_Booked'], 'values':[T.iloc[1,1], 1 - T.iloc[1,1] ]})\n",
    "print(Pie_df_2)\n",
    "\n",
    "\n",
    "# Pie Graph\n",
    "\n",
    "import plotly.express as px\n",
    "import plotly.graph_objects as go\n",
    "\n",
    "fig = px.pie(Pie_df_1, values='values', names='names', color='names',\n",
    "             color_discrete_map={'Not_Booked':'lightcyan',\n",
    "                                 'Booked':'royalblue'})\n",
    "fig.update_layout(\n",
    "    title=\"User Not Loged-in\",\n",
    "    #xaxis_title=\"<b>Destination</b>\",\n",
    "    #yaxis_title=\"<b>Number of Days</b>\",\n",
    "    font=dict(\n",
    "        family=\"Courier New, monospace\",\n",
    "        size=18,\n",
    "        color=\"#7f7f7f\"\n",
    "    ))\n",
    "fig.show()\n",
    "fig.write_image(\"figures/hotel_loged-in.png\", format='png', scale=3, width=800, height=500)\n",
    "\n",
    "\n",
    "fig = px.pie(Pie_df_2, values='values', names='names', color='names',\n",
    "             color_discrete_map={'Not_Booked':'lightcyan',\n",
    "                                 'Booked':'royalblue'})\n",
    "fig.update_layout(\n",
    "    title=\"User Loged-in\",\n",
    "    #xaxis_title=\"<b>Destination</b>\",\n",
    "    #yaxis_title=\"<b>Number of Days</b>\",\n",
    "    font=dict(\n",
    "        family=\"Courier New, monospace\",\n",
    "        size=18,\n",
    "        color=\"#7f7f7f\"\n",
    "    ))\n",
    "fig.write_image(\"figures/hotel_not_loged-in.png\", format='png', scale=3, width=800, height=500)\n",
    "\n",
    "fig.show()\n"
   ]
  }
 ],
 "metadata": {
  "kernelspec": {
   "display_name": "Python 3",
   "language": "python",
   "name": "python3"
  },
  "language_info": {
   "codemirror_mode": {
    "name": "ipython",
    "version": 3
   },
   "file_extension": ".py",
   "mimetype": "text/x-python",
   "name": "python",
   "nbconvert_exporter": "python",
   "pygments_lexer": "ipython3",
   "version": "3.6.4"
  }
 },
 "nbformat": 4,
 "nbformat_minor": 2
}
