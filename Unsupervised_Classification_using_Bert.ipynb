{
  "nbformat": 4,
  "nbformat_minor": 0,
  "metadata": {
    "colab": {
      "name": "Unsupervised_Classification_using_Bert.ipynb",
      "provenance": [],
      "authorship_tag": "ABX9TyMUvNO7V7jWujysGjVlmnlq",
      "include_colab_link": true
    },
    "kernelspec": {
      "name": "python3",
      "display_name": "Python 3"
    },
    "language_info": {
      "name": "python"
    },
    "widgets": {
      "application/vnd.jupyter.widget-state+json": {
        "7082bc6696d847299b06c81a64c50feb": {
          "model_module": "@jupyter-widgets/controls",
          "model_name": "HBoxModel",
          "state": {
            "_view_name": "HBoxView",
            "_dom_classes": [],
            "_model_name": "HBoxModel",
            "_view_module": "@jupyter-widgets/controls",
            "_model_module_version": "1.5.0",
            "_view_count": null,
            "_view_module_version": "1.5.0",
            "box_style": "",
            "layout": "IPY_MODEL_59209c88040646cdbfdcca9cc2e98ee3",
            "_model_module": "@jupyter-widgets/controls",
            "children": [
              "IPY_MODEL_4df8e6b511084655a554173f444ef389",
              "IPY_MODEL_8c9b124de1ec4f789ae29d91437b0dc9"
            ]
          }
        },
        "59209c88040646cdbfdcca9cc2e98ee3": {
          "model_module": "@jupyter-widgets/base",
          "model_name": "LayoutModel",
          "state": {
            "_view_name": "LayoutView",
            "grid_template_rows": null,
            "right": null,
            "justify_content": null,
            "_view_module": "@jupyter-widgets/base",
            "overflow": null,
            "_model_module_version": "1.2.0",
            "_view_count": null,
            "flex_flow": null,
            "width": null,
            "min_width": null,
            "border": null,
            "align_items": null,
            "bottom": null,
            "_model_module": "@jupyter-widgets/base",
            "top": null,
            "grid_column": null,
            "overflow_y": null,
            "overflow_x": null,
            "grid_auto_flow": null,
            "grid_area": null,
            "grid_template_columns": null,
            "flex": null,
            "_model_name": "LayoutModel",
            "justify_items": null,
            "grid_row": null,
            "max_height": null,
            "align_content": null,
            "visibility": null,
            "align_self": null,
            "height": null,
            "min_height": null,
            "padding": null,
            "grid_auto_rows": null,
            "grid_gap": null,
            "max_width": null,
            "order": null,
            "_view_module_version": "1.2.0",
            "grid_template_areas": null,
            "object_position": null,
            "object_fit": null,
            "grid_auto_columns": null,
            "margin": null,
            "display": null,
            "left": null
          }
        },
        "4df8e6b511084655a554173f444ef389": {
          "model_module": "@jupyter-widgets/controls",
          "model_name": "FloatProgressModel",
          "state": {
            "_view_name": "ProgressView",
            "style": "IPY_MODEL_1dc6dd23cb77469aa1f70cdad0bb3e47",
            "_dom_classes": [],
            "description": "Downloading: 100%",
            "_model_name": "FloatProgressModel",
            "bar_style": "success",
            "max": 231508,
            "_view_module": "@jupyter-widgets/controls",
            "_model_module_version": "1.5.0",
            "value": 231508,
            "_view_count": null,
            "_view_module_version": "1.5.0",
            "orientation": "horizontal",
            "min": 0,
            "description_tooltip": null,
            "_model_module": "@jupyter-widgets/controls",
            "layout": "IPY_MODEL_78e37bbe82124415b09c5dc0a886712e"
          }
        },
        "8c9b124de1ec4f789ae29d91437b0dc9": {
          "model_module": "@jupyter-widgets/controls",
          "model_name": "HTMLModel",
          "state": {
            "_view_name": "HTMLView",
            "style": "IPY_MODEL_7b950b09fec84b7b99ba09936d8d6a66",
            "_dom_classes": [],
            "description": "",
            "_model_name": "HTMLModel",
            "placeholder": "​",
            "_view_module": "@jupyter-widgets/controls",
            "_model_module_version": "1.5.0",
            "value": " 232k/232k [00:02&lt;00:00, 106kB/s]",
            "_view_count": null,
            "_view_module_version": "1.5.0",
            "description_tooltip": null,
            "_model_module": "@jupyter-widgets/controls",
            "layout": "IPY_MODEL_a6605536baf6437b969ff196a7da2f21"
          }
        },
        "1dc6dd23cb77469aa1f70cdad0bb3e47": {
          "model_module": "@jupyter-widgets/controls",
          "model_name": "ProgressStyleModel",
          "state": {
            "_view_name": "StyleView",
            "_model_name": "ProgressStyleModel",
            "description_width": "initial",
            "_view_module": "@jupyter-widgets/base",
            "_model_module_version": "1.5.0",
            "_view_count": null,
            "_view_module_version": "1.2.0",
            "bar_color": null,
            "_model_module": "@jupyter-widgets/controls"
          }
        },
        "78e37bbe82124415b09c5dc0a886712e": {
          "model_module": "@jupyter-widgets/base",
          "model_name": "LayoutModel",
          "state": {
            "_view_name": "LayoutView",
            "grid_template_rows": null,
            "right": null,
            "justify_content": null,
            "_view_module": "@jupyter-widgets/base",
            "overflow": null,
            "_model_module_version": "1.2.0",
            "_view_count": null,
            "flex_flow": null,
            "width": null,
            "min_width": null,
            "border": null,
            "align_items": null,
            "bottom": null,
            "_model_module": "@jupyter-widgets/base",
            "top": null,
            "grid_column": null,
            "overflow_y": null,
            "overflow_x": null,
            "grid_auto_flow": null,
            "grid_area": null,
            "grid_template_columns": null,
            "flex": null,
            "_model_name": "LayoutModel",
            "justify_items": null,
            "grid_row": null,
            "max_height": null,
            "align_content": null,
            "visibility": null,
            "align_self": null,
            "height": null,
            "min_height": null,
            "padding": null,
            "grid_auto_rows": null,
            "grid_gap": null,
            "max_width": null,
            "order": null,
            "_view_module_version": "1.2.0",
            "grid_template_areas": null,
            "object_position": null,
            "object_fit": null,
            "grid_auto_columns": null,
            "margin": null,
            "display": null,
            "left": null
          }
        },
        "7b950b09fec84b7b99ba09936d8d6a66": {
          "model_module": "@jupyter-widgets/controls",
          "model_name": "DescriptionStyleModel",
          "state": {
            "_view_name": "StyleView",
            "_model_name": "DescriptionStyleModel",
            "description_width": "",
            "_view_module": "@jupyter-widgets/base",
            "_model_module_version": "1.5.0",
            "_view_count": null,
            "_view_module_version": "1.2.0",
            "_model_module": "@jupyter-widgets/controls"
          }
        },
        "a6605536baf6437b969ff196a7da2f21": {
          "model_module": "@jupyter-widgets/base",
          "model_name": "LayoutModel",
          "state": {
            "_view_name": "LayoutView",
            "grid_template_rows": null,
            "right": null,
            "justify_content": null,
            "_view_module": "@jupyter-widgets/base",
            "overflow": null,
            "_model_module_version": "1.2.0",
            "_view_count": null,
            "flex_flow": null,
            "width": null,
            "min_width": null,
            "border": null,
            "align_items": null,
            "bottom": null,
            "_model_module": "@jupyter-widgets/base",
            "top": null,
            "grid_column": null,
            "overflow_y": null,
            "overflow_x": null,
            "grid_auto_flow": null,
            "grid_area": null,
            "grid_template_columns": null,
            "flex": null,
            "_model_name": "LayoutModel",
            "justify_items": null,
            "grid_row": null,
            "max_height": null,
            "align_content": null,
            "visibility": null,
            "align_self": null,
            "height": null,
            "min_height": null,
            "padding": null,
            "grid_auto_rows": null,
            "grid_gap": null,
            "max_width": null,
            "order": null,
            "_view_module_version": "1.2.0",
            "grid_template_areas": null,
            "object_position": null,
            "object_fit": null,
            "grid_auto_columns": null,
            "margin": null,
            "display": null,
            "left": null
          }
        },
        "d715b68b5be745eba2aca0be5c58b8da": {
          "model_module": "@jupyter-widgets/controls",
          "model_name": "HBoxModel",
          "state": {
            "_view_name": "HBoxView",
            "_dom_classes": [],
            "_model_name": "HBoxModel",
            "_view_module": "@jupyter-widgets/controls",
            "_model_module_version": "1.5.0",
            "_view_count": null,
            "_view_module_version": "1.5.0",
            "box_style": "",
            "layout": "IPY_MODEL_2dc65eedeb3d4f65b74a3dff3997fd8b",
            "_model_module": "@jupyter-widgets/controls",
            "children": [
              "IPY_MODEL_5cba4105fd62412d9cd8336eb35c1d3b",
              "IPY_MODEL_4163c7b7252f40c9962e4279257367f9"
            ]
          }
        },
        "2dc65eedeb3d4f65b74a3dff3997fd8b": {
          "model_module": "@jupyter-widgets/base",
          "model_name": "LayoutModel",
          "state": {
            "_view_name": "LayoutView",
            "grid_template_rows": null,
            "right": null,
            "justify_content": null,
            "_view_module": "@jupyter-widgets/base",
            "overflow": null,
            "_model_module_version": "1.2.0",
            "_view_count": null,
            "flex_flow": null,
            "width": null,
            "min_width": null,
            "border": null,
            "align_items": null,
            "bottom": null,
            "_model_module": "@jupyter-widgets/base",
            "top": null,
            "grid_column": null,
            "overflow_y": null,
            "overflow_x": null,
            "grid_auto_flow": null,
            "grid_area": null,
            "grid_template_columns": null,
            "flex": null,
            "_model_name": "LayoutModel",
            "justify_items": null,
            "grid_row": null,
            "max_height": null,
            "align_content": null,
            "visibility": null,
            "align_self": null,
            "height": null,
            "min_height": null,
            "padding": null,
            "grid_auto_rows": null,
            "grid_gap": null,
            "max_width": null,
            "order": null,
            "_view_module_version": "1.2.0",
            "grid_template_areas": null,
            "object_position": null,
            "object_fit": null,
            "grid_auto_columns": null,
            "margin": null,
            "display": null,
            "left": null
          }
        },
        "5cba4105fd62412d9cd8336eb35c1d3b": {
          "model_module": "@jupyter-widgets/controls",
          "model_name": "FloatProgressModel",
          "state": {
            "_view_name": "ProgressView",
            "style": "IPY_MODEL_06922940a16746d4819b2f0a0aac9b38",
            "_dom_classes": [],
            "description": "Downloading: 100%",
            "_model_name": "FloatProgressModel",
            "bar_style": "success",
            "max": 28,
            "_view_module": "@jupyter-widgets/controls",
            "_model_module_version": "1.5.0",
            "value": 28,
            "_view_count": null,
            "_view_module_version": "1.5.0",
            "orientation": "horizontal",
            "min": 0,
            "description_tooltip": null,
            "_model_module": "@jupyter-widgets/controls",
            "layout": "IPY_MODEL_1adfbb502f284294a3041d667592aaae"
          }
        },
        "4163c7b7252f40c9962e4279257367f9": {
          "model_module": "@jupyter-widgets/controls",
          "model_name": "HTMLModel",
          "state": {
            "_view_name": "HTMLView",
            "style": "IPY_MODEL_4430f7ea17a64c2599e8efc48c908314",
            "_dom_classes": [],
            "description": "",
            "_model_name": "HTMLModel",
            "placeholder": "​",
            "_view_module": "@jupyter-widgets/controls",
            "_model_module_version": "1.5.0",
            "value": " 28.0/28.0 [00:00&lt;00:00, 61.0B/s]",
            "_view_count": null,
            "_view_module_version": "1.5.0",
            "description_tooltip": null,
            "_model_module": "@jupyter-widgets/controls",
            "layout": "IPY_MODEL_fad02eec4fc3438abaec6f0f2fd587a2"
          }
        },
        "06922940a16746d4819b2f0a0aac9b38": {
          "model_module": "@jupyter-widgets/controls",
          "model_name": "ProgressStyleModel",
          "state": {
            "_view_name": "StyleView",
            "_model_name": "ProgressStyleModel",
            "description_width": "initial",
            "_view_module": "@jupyter-widgets/base",
            "_model_module_version": "1.5.0",
            "_view_count": null,
            "_view_module_version": "1.2.0",
            "bar_color": null,
            "_model_module": "@jupyter-widgets/controls"
          }
        },
        "1adfbb502f284294a3041d667592aaae": {
          "model_module": "@jupyter-widgets/base",
          "model_name": "LayoutModel",
          "state": {
            "_view_name": "LayoutView",
            "grid_template_rows": null,
            "right": null,
            "justify_content": null,
            "_view_module": "@jupyter-widgets/base",
            "overflow": null,
            "_model_module_version": "1.2.0",
            "_view_count": null,
            "flex_flow": null,
            "width": null,
            "min_width": null,
            "border": null,
            "align_items": null,
            "bottom": null,
            "_model_module": "@jupyter-widgets/base",
            "top": null,
            "grid_column": null,
            "overflow_y": null,
            "overflow_x": null,
            "grid_auto_flow": null,
            "grid_area": null,
            "grid_template_columns": null,
            "flex": null,
            "_model_name": "LayoutModel",
            "justify_items": null,
            "grid_row": null,
            "max_height": null,
            "align_content": null,
            "visibility": null,
            "align_self": null,
            "height": null,
            "min_height": null,
            "padding": null,
            "grid_auto_rows": null,
            "grid_gap": null,
            "max_width": null,
            "order": null,
            "_view_module_version": "1.2.0",
            "grid_template_areas": null,
            "object_position": null,
            "object_fit": null,
            "grid_auto_columns": null,
            "margin": null,
            "display": null,
            "left": null
          }
        },
        "4430f7ea17a64c2599e8efc48c908314": {
          "model_module": "@jupyter-widgets/controls",
          "model_name": "DescriptionStyleModel",
          "state": {
            "_view_name": "StyleView",
            "_model_name": "DescriptionStyleModel",
            "description_width": "",
            "_view_module": "@jupyter-widgets/base",
            "_model_module_version": "1.5.0",
            "_view_count": null,
            "_view_module_version": "1.2.0",
            "_model_module": "@jupyter-widgets/controls"
          }
        },
        "fad02eec4fc3438abaec6f0f2fd587a2": {
          "model_module": "@jupyter-widgets/base",
          "model_name": "LayoutModel",
          "state": {
            "_view_name": "LayoutView",
            "grid_template_rows": null,
            "right": null,
            "justify_content": null,
            "_view_module": "@jupyter-widgets/base",
            "overflow": null,
            "_model_module_version": "1.2.0",
            "_view_count": null,
            "flex_flow": null,
            "width": null,
            "min_width": null,
            "border": null,
            "align_items": null,
            "bottom": null,
            "_model_module": "@jupyter-widgets/base",
            "top": null,
            "grid_column": null,
            "overflow_y": null,
            "overflow_x": null,
            "grid_auto_flow": null,
            "grid_area": null,
            "grid_template_columns": null,
            "flex": null,
            "_model_name": "LayoutModel",
            "justify_items": null,
            "grid_row": null,
            "max_height": null,
            "align_content": null,
            "visibility": null,
            "align_self": null,
            "height": null,
            "min_height": null,
            "padding": null,
            "grid_auto_rows": null,
            "grid_gap": null,
            "max_width": null,
            "order": null,
            "_view_module_version": "1.2.0",
            "grid_template_areas": null,
            "object_position": null,
            "object_fit": null,
            "grid_auto_columns": null,
            "margin": null,
            "display": null,
            "left": null
          }
        },
        "45a016764beb4bd78b61e104f3f47859": {
          "model_module": "@jupyter-widgets/controls",
          "model_name": "HBoxModel",
          "state": {
            "_view_name": "HBoxView",
            "_dom_classes": [],
            "_model_name": "HBoxModel",
            "_view_module": "@jupyter-widgets/controls",
            "_model_module_version": "1.5.0",
            "_view_count": null,
            "_view_module_version": "1.5.0",
            "box_style": "",
            "layout": "IPY_MODEL_d9c2aa4ad27a45cbb74abf1751a37fe9",
            "_model_module": "@jupyter-widgets/controls",
            "children": [
              "IPY_MODEL_735a4b3782e442109c377ab6946369f8",
              "IPY_MODEL_b8da68a98f48473c8183032b07b5f7ea"
            ]
          }
        },
        "d9c2aa4ad27a45cbb74abf1751a37fe9": {
          "model_module": "@jupyter-widgets/base",
          "model_name": "LayoutModel",
          "state": {
            "_view_name": "LayoutView",
            "grid_template_rows": null,
            "right": null,
            "justify_content": null,
            "_view_module": "@jupyter-widgets/base",
            "overflow": null,
            "_model_module_version": "1.2.0",
            "_view_count": null,
            "flex_flow": null,
            "width": null,
            "min_width": null,
            "border": null,
            "align_items": null,
            "bottom": null,
            "_model_module": "@jupyter-widgets/base",
            "top": null,
            "grid_column": null,
            "overflow_y": null,
            "overflow_x": null,
            "grid_auto_flow": null,
            "grid_area": null,
            "grid_template_columns": null,
            "flex": null,
            "_model_name": "LayoutModel",
            "justify_items": null,
            "grid_row": null,
            "max_height": null,
            "align_content": null,
            "visibility": null,
            "align_self": null,
            "height": null,
            "min_height": null,
            "padding": null,
            "grid_auto_rows": null,
            "grid_gap": null,
            "max_width": null,
            "order": null,
            "_view_module_version": "1.2.0",
            "grid_template_areas": null,
            "object_position": null,
            "object_fit": null,
            "grid_auto_columns": null,
            "margin": null,
            "display": null,
            "left": null
          }
        },
        "735a4b3782e442109c377ab6946369f8": {
          "model_module": "@jupyter-widgets/controls",
          "model_name": "FloatProgressModel",
          "state": {
            "_view_name": "ProgressView",
            "style": "IPY_MODEL_11b5afe0c31e477fb0f2b64bc8012697",
            "_dom_classes": [],
            "description": "Downloading: 100%",
            "_model_name": "FloatProgressModel",
            "bar_style": "success",
            "max": 466062,
            "_view_module": "@jupyter-widgets/controls",
            "_model_module_version": "1.5.0",
            "value": 466062,
            "_view_count": null,
            "_view_module_version": "1.5.0",
            "orientation": "horizontal",
            "min": 0,
            "description_tooltip": null,
            "_model_module": "@jupyter-widgets/controls",
            "layout": "IPY_MODEL_0f6c2468a9704f1da1ee0324e26f4588"
          }
        },
        "b8da68a98f48473c8183032b07b5f7ea": {
          "model_module": "@jupyter-widgets/controls",
          "model_name": "HTMLModel",
          "state": {
            "_view_name": "HTMLView",
            "style": "IPY_MODEL_a08ef6df48ac47ccb047b7cd9bdb0c66",
            "_dom_classes": [],
            "description": "",
            "_model_name": "HTMLModel",
            "placeholder": "​",
            "_view_module": "@jupyter-widgets/controls",
            "_model_module_version": "1.5.0",
            "value": " 466k/466k [00:00&lt;00:00, 2.07MB/s]",
            "_view_count": null,
            "_view_module_version": "1.5.0",
            "description_tooltip": null,
            "_model_module": "@jupyter-widgets/controls",
            "layout": "IPY_MODEL_5961cbbdad5b4b04a933e19fa1e1e092"
          }
        },
        "11b5afe0c31e477fb0f2b64bc8012697": {
          "model_module": "@jupyter-widgets/controls",
          "model_name": "ProgressStyleModel",
          "state": {
            "_view_name": "StyleView",
            "_model_name": "ProgressStyleModel",
            "description_width": "initial",
            "_view_module": "@jupyter-widgets/base",
            "_model_module_version": "1.5.0",
            "_view_count": null,
            "_view_module_version": "1.2.0",
            "bar_color": null,
            "_model_module": "@jupyter-widgets/controls"
          }
        },
        "0f6c2468a9704f1da1ee0324e26f4588": {
          "model_module": "@jupyter-widgets/base",
          "model_name": "LayoutModel",
          "state": {
            "_view_name": "LayoutView",
            "grid_template_rows": null,
            "right": null,
            "justify_content": null,
            "_view_module": "@jupyter-widgets/base",
            "overflow": null,
            "_model_module_version": "1.2.0",
            "_view_count": null,
            "flex_flow": null,
            "width": null,
            "min_width": null,
            "border": null,
            "align_items": null,
            "bottom": null,
            "_model_module": "@jupyter-widgets/base",
            "top": null,
            "grid_column": null,
            "overflow_y": null,
            "overflow_x": null,
            "grid_auto_flow": null,
            "grid_area": null,
            "grid_template_columns": null,
            "flex": null,
            "_model_name": "LayoutModel",
            "justify_items": null,
            "grid_row": null,
            "max_height": null,
            "align_content": null,
            "visibility": null,
            "align_self": null,
            "height": null,
            "min_height": null,
            "padding": null,
            "grid_auto_rows": null,
            "grid_gap": null,
            "max_width": null,
            "order": null,
            "_view_module_version": "1.2.0",
            "grid_template_areas": null,
            "object_position": null,
            "object_fit": null,
            "grid_auto_columns": null,
            "margin": null,
            "display": null,
            "left": null
          }
        },
        "a08ef6df48ac47ccb047b7cd9bdb0c66": {
          "model_module": "@jupyter-widgets/controls",
          "model_name": "DescriptionStyleModel",
          "state": {
            "_view_name": "StyleView",
            "_model_name": "DescriptionStyleModel",
            "description_width": "",
            "_view_module": "@jupyter-widgets/base",
            "_model_module_version": "1.5.0",
            "_view_count": null,
            "_view_module_version": "1.2.0",
            "_model_module": "@jupyter-widgets/controls"
          }
        },
        "5961cbbdad5b4b04a933e19fa1e1e092": {
          "model_module": "@jupyter-widgets/base",
          "model_name": "LayoutModel",
          "state": {
            "_view_name": "LayoutView",
            "grid_template_rows": null,
            "right": null,
            "justify_content": null,
            "_view_module": "@jupyter-widgets/base",
            "overflow": null,
            "_model_module_version": "1.2.0",
            "_view_count": null,
            "flex_flow": null,
            "width": null,
            "min_width": null,
            "border": null,
            "align_items": null,
            "bottom": null,
            "_model_module": "@jupyter-widgets/base",
            "top": null,
            "grid_column": null,
            "overflow_y": null,
            "overflow_x": null,
            "grid_auto_flow": null,
            "grid_area": null,
            "grid_template_columns": null,
            "flex": null,
            "_model_name": "LayoutModel",
            "justify_items": null,
            "grid_row": null,
            "max_height": null,
            "align_content": null,
            "visibility": null,
            "align_self": null,
            "height": null,
            "min_height": null,
            "padding": null,
            "grid_auto_rows": null,
            "grid_gap": null,
            "max_width": null,
            "order": null,
            "_view_module_version": "1.2.0",
            "grid_template_areas": null,
            "object_position": null,
            "object_fit": null,
            "grid_auto_columns": null,
            "margin": null,
            "display": null,
            "left": null
          }
        },
        "865e01e16ae34a7cad214681c6a22f60": {
          "model_module": "@jupyter-widgets/controls",
          "model_name": "HBoxModel",
          "state": {
            "_view_name": "HBoxView",
            "_dom_classes": [],
            "_model_name": "HBoxModel",
            "_view_module": "@jupyter-widgets/controls",
            "_model_module_version": "1.5.0",
            "_view_count": null,
            "_view_module_version": "1.5.0",
            "box_style": "",
            "layout": "IPY_MODEL_5443009a1aba4d488acde361b2ace538",
            "_model_module": "@jupyter-widgets/controls",
            "children": [
              "IPY_MODEL_b3fb0d1baf814cbfa80b443dc63cb452",
              "IPY_MODEL_cc16ee2520c244be819a019ac1f2bc03"
            ]
          }
        },
        "5443009a1aba4d488acde361b2ace538": {
          "model_module": "@jupyter-widgets/base",
          "model_name": "LayoutModel",
          "state": {
            "_view_name": "LayoutView",
            "grid_template_rows": null,
            "right": null,
            "justify_content": null,
            "_view_module": "@jupyter-widgets/base",
            "overflow": null,
            "_model_module_version": "1.2.0",
            "_view_count": null,
            "flex_flow": null,
            "width": null,
            "min_width": null,
            "border": null,
            "align_items": null,
            "bottom": null,
            "_model_module": "@jupyter-widgets/base",
            "top": null,
            "grid_column": null,
            "overflow_y": null,
            "overflow_x": null,
            "grid_auto_flow": null,
            "grid_area": null,
            "grid_template_columns": null,
            "flex": null,
            "_model_name": "LayoutModel",
            "justify_items": null,
            "grid_row": null,
            "max_height": null,
            "align_content": null,
            "visibility": null,
            "align_self": null,
            "height": null,
            "min_height": null,
            "padding": null,
            "grid_auto_rows": null,
            "grid_gap": null,
            "max_width": null,
            "order": null,
            "_view_module_version": "1.2.0",
            "grid_template_areas": null,
            "object_position": null,
            "object_fit": null,
            "grid_auto_columns": null,
            "margin": null,
            "display": null,
            "left": null
          }
        },
        "b3fb0d1baf814cbfa80b443dc63cb452": {
          "model_module": "@jupyter-widgets/controls",
          "model_name": "FloatProgressModel",
          "state": {
            "_view_name": "ProgressView",
            "style": "IPY_MODEL_88cdeb81321847579ff0f401b63a8033",
            "_dom_classes": [],
            "description": "Downloading: 100%",
            "_model_name": "FloatProgressModel",
            "bar_style": "success",
            "max": 570,
            "_view_module": "@jupyter-widgets/controls",
            "_model_module_version": "1.5.0",
            "value": 570,
            "_view_count": null,
            "_view_module_version": "1.5.0",
            "orientation": "horizontal",
            "min": 0,
            "description_tooltip": null,
            "_model_module": "@jupyter-widgets/controls",
            "layout": "IPY_MODEL_ddfb19918f4b4727b2460c0112da4e9e"
          }
        },
        "cc16ee2520c244be819a019ac1f2bc03": {
          "model_module": "@jupyter-widgets/controls",
          "model_name": "HTMLModel",
          "state": {
            "_view_name": "HTMLView",
            "style": "IPY_MODEL_e1bb94cd68f54980b82c764e65d0c0b6",
            "_dom_classes": [],
            "description": "",
            "_model_name": "HTMLModel",
            "placeholder": "​",
            "_view_module": "@jupyter-widgets/controls",
            "_model_module_version": "1.5.0",
            "value": " 570/570 [00:00&lt;00:00, 2.43kB/s]",
            "_view_count": null,
            "_view_module_version": "1.5.0",
            "description_tooltip": null,
            "_model_module": "@jupyter-widgets/controls",
            "layout": "IPY_MODEL_ec1dfd0258794426aa06de875325e008"
          }
        },
        "88cdeb81321847579ff0f401b63a8033": {
          "model_module": "@jupyter-widgets/controls",
          "model_name": "ProgressStyleModel",
          "state": {
            "_view_name": "StyleView",
            "_model_name": "ProgressStyleModel",
            "description_width": "initial",
            "_view_module": "@jupyter-widgets/base",
            "_model_module_version": "1.5.0",
            "_view_count": null,
            "_view_module_version": "1.2.0",
            "bar_color": null,
            "_model_module": "@jupyter-widgets/controls"
          }
        },
        "ddfb19918f4b4727b2460c0112da4e9e": {
          "model_module": "@jupyter-widgets/base",
          "model_name": "LayoutModel",
          "state": {
            "_view_name": "LayoutView",
            "grid_template_rows": null,
            "right": null,
            "justify_content": null,
            "_view_module": "@jupyter-widgets/base",
            "overflow": null,
            "_model_module_version": "1.2.0",
            "_view_count": null,
            "flex_flow": null,
            "width": null,
            "min_width": null,
            "border": null,
            "align_items": null,
            "bottom": null,
            "_model_module": "@jupyter-widgets/base",
            "top": null,
            "grid_column": null,
            "overflow_y": null,
            "overflow_x": null,
            "grid_auto_flow": null,
            "grid_area": null,
            "grid_template_columns": null,
            "flex": null,
            "_model_name": "LayoutModel",
            "justify_items": null,
            "grid_row": null,
            "max_height": null,
            "align_content": null,
            "visibility": null,
            "align_self": null,
            "height": null,
            "min_height": null,
            "padding": null,
            "grid_auto_rows": null,
            "grid_gap": null,
            "max_width": null,
            "order": null,
            "_view_module_version": "1.2.0",
            "grid_template_areas": null,
            "object_position": null,
            "object_fit": null,
            "grid_auto_columns": null,
            "margin": null,
            "display": null,
            "left": null
          }
        },
        "e1bb94cd68f54980b82c764e65d0c0b6": {
          "model_module": "@jupyter-widgets/controls",
          "model_name": "DescriptionStyleModel",
          "state": {
            "_view_name": "StyleView",
            "_model_name": "DescriptionStyleModel",
            "description_width": "",
            "_view_module": "@jupyter-widgets/base",
            "_model_module_version": "1.5.0",
            "_view_count": null,
            "_view_module_version": "1.2.0",
            "_model_module": "@jupyter-widgets/controls"
          }
        },
        "ec1dfd0258794426aa06de875325e008": {
          "model_module": "@jupyter-widgets/base",
          "model_name": "LayoutModel",
          "state": {
            "_view_name": "LayoutView",
            "grid_template_rows": null,
            "right": null,
            "justify_content": null,
            "_view_module": "@jupyter-widgets/base",
            "overflow": null,
            "_model_module_version": "1.2.0",
            "_view_count": null,
            "flex_flow": null,
            "width": null,
            "min_width": null,
            "border": null,
            "align_items": null,
            "bottom": null,
            "_model_module": "@jupyter-widgets/base",
            "top": null,
            "grid_column": null,
            "overflow_y": null,
            "overflow_x": null,
            "grid_auto_flow": null,
            "grid_area": null,
            "grid_template_columns": null,
            "flex": null,
            "_model_name": "LayoutModel",
            "justify_items": null,
            "grid_row": null,
            "max_height": null,
            "align_content": null,
            "visibility": null,
            "align_self": null,
            "height": null,
            "min_height": null,
            "padding": null,
            "grid_auto_rows": null,
            "grid_gap": null,
            "max_width": null,
            "order": null,
            "_view_module_version": "1.2.0",
            "grid_template_areas": null,
            "object_position": null,
            "object_fit": null,
            "grid_auto_columns": null,
            "margin": null,
            "display": null,
            "left": null
          }
        },
        "46e61b6757db4889b0ecde3f91991461": {
          "model_module": "@jupyter-widgets/controls",
          "model_name": "HBoxModel",
          "state": {
            "_view_name": "HBoxView",
            "_dom_classes": [],
            "_model_name": "HBoxModel",
            "_view_module": "@jupyter-widgets/controls",
            "_model_module_version": "1.5.0",
            "_view_count": null,
            "_view_module_version": "1.5.0",
            "box_style": "",
            "layout": "IPY_MODEL_a4e61681db404d9485091c7c324a0329",
            "_model_module": "@jupyter-widgets/controls",
            "children": [
              "IPY_MODEL_aa9cc4eaa15a42298677ec94a2902a18",
              "IPY_MODEL_05c4d6602dd2443d8e69d9129193624e"
            ]
          }
        },
        "a4e61681db404d9485091c7c324a0329": {
          "model_module": "@jupyter-widgets/base",
          "model_name": "LayoutModel",
          "state": {
            "_view_name": "LayoutView",
            "grid_template_rows": null,
            "right": null,
            "justify_content": null,
            "_view_module": "@jupyter-widgets/base",
            "overflow": null,
            "_model_module_version": "1.2.0",
            "_view_count": null,
            "flex_flow": null,
            "width": null,
            "min_width": null,
            "border": null,
            "align_items": null,
            "bottom": null,
            "_model_module": "@jupyter-widgets/base",
            "top": null,
            "grid_column": null,
            "overflow_y": null,
            "overflow_x": null,
            "grid_auto_flow": null,
            "grid_area": null,
            "grid_template_columns": null,
            "flex": null,
            "_model_name": "LayoutModel",
            "justify_items": null,
            "grid_row": null,
            "max_height": null,
            "align_content": null,
            "visibility": null,
            "align_self": null,
            "height": null,
            "min_height": null,
            "padding": null,
            "grid_auto_rows": null,
            "grid_gap": null,
            "max_width": null,
            "order": null,
            "_view_module_version": "1.2.0",
            "grid_template_areas": null,
            "object_position": null,
            "object_fit": null,
            "grid_auto_columns": null,
            "margin": null,
            "display": null,
            "left": null
          }
        },
        "aa9cc4eaa15a42298677ec94a2902a18": {
          "model_module": "@jupyter-widgets/controls",
          "model_name": "FloatProgressModel",
          "state": {
            "_view_name": "ProgressView",
            "style": "IPY_MODEL_350d56e875534135a8d7aae838eb0887",
            "_dom_classes": [],
            "description": "Downloading: 100%",
            "_model_name": "FloatProgressModel",
            "bar_style": "success",
            "max": 536063208,
            "_view_module": "@jupyter-widgets/controls",
            "_model_module_version": "1.5.0",
            "value": 536063208,
            "_view_count": null,
            "_view_module_version": "1.5.0",
            "orientation": "horizontal",
            "min": 0,
            "description_tooltip": null,
            "_model_module": "@jupyter-widgets/controls",
            "layout": "IPY_MODEL_233a7db019b144ab9823f70b74fa1deb"
          }
        },
        "05c4d6602dd2443d8e69d9129193624e": {
          "model_module": "@jupyter-widgets/controls",
          "model_name": "HTMLModel",
          "state": {
            "_view_name": "HTMLView",
            "style": "IPY_MODEL_1544aa6406ad40c68c1e3ec919679424",
            "_dom_classes": [],
            "description": "",
            "_model_name": "HTMLModel",
            "placeholder": "​",
            "_view_module": "@jupyter-widgets/controls",
            "_model_module_version": "1.5.0",
            "value": " 536M/536M [00:12&lt;00:00, 44.2MB/s]",
            "_view_count": null,
            "_view_module_version": "1.5.0",
            "description_tooltip": null,
            "_model_module": "@jupyter-widgets/controls",
            "layout": "IPY_MODEL_dc408710af75474aba08695e576b4495"
          }
        },
        "350d56e875534135a8d7aae838eb0887": {
          "model_module": "@jupyter-widgets/controls",
          "model_name": "ProgressStyleModel",
          "state": {
            "_view_name": "StyleView",
            "_model_name": "ProgressStyleModel",
            "description_width": "initial",
            "_view_module": "@jupyter-widgets/base",
            "_model_module_version": "1.5.0",
            "_view_count": null,
            "_view_module_version": "1.2.0",
            "bar_color": null,
            "_model_module": "@jupyter-widgets/controls"
          }
        },
        "233a7db019b144ab9823f70b74fa1deb": {
          "model_module": "@jupyter-widgets/base",
          "model_name": "LayoutModel",
          "state": {
            "_view_name": "LayoutView",
            "grid_template_rows": null,
            "right": null,
            "justify_content": null,
            "_view_module": "@jupyter-widgets/base",
            "overflow": null,
            "_model_module_version": "1.2.0",
            "_view_count": null,
            "flex_flow": null,
            "width": null,
            "min_width": null,
            "border": null,
            "align_items": null,
            "bottom": null,
            "_model_module": "@jupyter-widgets/base",
            "top": null,
            "grid_column": null,
            "overflow_y": null,
            "overflow_x": null,
            "grid_auto_flow": null,
            "grid_area": null,
            "grid_template_columns": null,
            "flex": null,
            "_model_name": "LayoutModel",
            "justify_items": null,
            "grid_row": null,
            "max_height": null,
            "align_content": null,
            "visibility": null,
            "align_self": null,
            "height": null,
            "min_height": null,
            "padding": null,
            "grid_auto_rows": null,
            "grid_gap": null,
            "max_width": null,
            "order": null,
            "_view_module_version": "1.2.0",
            "grid_template_areas": null,
            "object_position": null,
            "object_fit": null,
            "grid_auto_columns": null,
            "margin": null,
            "display": null,
            "left": null
          }
        },
        "1544aa6406ad40c68c1e3ec919679424": {
          "model_module": "@jupyter-widgets/controls",
          "model_name": "DescriptionStyleModel",
          "state": {
            "_view_name": "StyleView",
            "_model_name": "DescriptionStyleModel",
            "description_width": "",
            "_view_module": "@jupyter-widgets/base",
            "_model_module_version": "1.5.0",
            "_view_count": null,
            "_view_module_version": "1.2.0",
            "_model_module": "@jupyter-widgets/controls"
          }
        },
        "dc408710af75474aba08695e576b4495": {
          "model_module": "@jupyter-widgets/base",
          "model_name": "LayoutModel",
          "state": {
            "_view_name": "LayoutView",
            "grid_template_rows": null,
            "right": null,
            "justify_content": null,
            "_view_module": "@jupyter-widgets/base",
            "overflow": null,
            "_model_module_version": "1.2.0",
            "_view_count": null,
            "flex_flow": null,
            "width": null,
            "min_width": null,
            "border": null,
            "align_items": null,
            "bottom": null,
            "_model_module": "@jupyter-widgets/base",
            "top": null,
            "grid_column": null,
            "overflow_y": null,
            "overflow_x": null,
            "grid_auto_flow": null,
            "grid_area": null,
            "grid_template_columns": null,
            "flex": null,
            "_model_name": "LayoutModel",
            "justify_items": null,
            "grid_row": null,
            "max_height": null,
            "align_content": null,
            "visibility": null,
            "align_self": null,
            "height": null,
            "min_height": null,
            "padding": null,
            "grid_auto_rows": null,
            "grid_gap": null,
            "max_width": null,
            "order": null,
            "_view_module_version": "1.2.0",
            "grid_template_areas": null,
            "object_position": null,
            "object_fit": null,
            "grid_auto_columns": null,
            "margin": null,
            "display": null,
            "left": null
          }
        }
      }
    }
  },
  "cells": [
    {
      "cell_type": "markdown",
      "metadata": {
        "id": "view-in-github",
        "colab_type": "text"
      },
      "source": [
        "<a href=\"https://colab.research.google.com/github/mrtnoshad/SampleCodes-/blob/master/Unsupervised_Classification_using_Bert.ipynb\" target=\"_parent\"><img src=\"https://colab.research.google.com/assets/colab-badge.svg\" alt=\"Open In Colab\"/></a>"
      ]
    },
    {
      "cell_type": "code",
      "metadata": {
        "colab": {
          "base_uri": "https://localhost:8080/"
        },
        "id": "ze2bBccj-GBh",
        "outputId": "4581ca86-2ab0-42e6-f3e4-048413334a80"
      },
      "source": [
        "a=[0,1,2,3]\n",
        "print(a[1:-1])"
      ],
      "execution_count": 48,
      "outputs": [
        {
          "output_type": "stream",
          "text": [
            "[1, 2]\n"
          ],
          "name": "stdout"
        }
      ]
    },
    {
      "cell_type": "markdown",
      "metadata": {
        "id": "pNVZki_bHG4I"
      },
      "source": [
        "https://towardsdatascience.com/text-classification-with-no-model-training-935fe0e42180 "
      ]
    },
    {
      "cell_type": "markdown",
      "metadata": {
        "id": "oNGfHyYpHFfz"
      },
      "source": [
        ""
      ]
    },
    {
      "cell_type": "code",
      "metadata": {
        "colab": {
          "base_uri": "https://localhost:8080/"
        },
        "id": "8pRAHTY4-Lad",
        "outputId": "8720ac6b-ab8e-493b-b753-842613b572df"
      },
      "source": [
        "## for data\n",
        "import json\n",
        "import pandas as pd\n",
        "import numpy as np\n",
        "from sklearn import metrics, manifold\n",
        "## for processing\n",
        "import re\n",
        "import nltk\n",
        "## for plotting\n",
        "import matplotlib.pyplot as plt\n",
        "import seaborn as sns\n",
        "## for w2v\n",
        "import gensim\n",
        "import gensim.downloader as gensim_api\n",
        "## for bert\n",
        "! pip install transformers\n",
        "import transformers"
      ],
      "execution_count": 2,
      "outputs": [
        {
          "output_type": "stream",
          "text": [
            "Collecting transformers\n",
            "\u001b[?25l  Downloading https://files.pythonhosted.org/packages/d5/43/cfe4ee779bbd6a678ac6a97c5a5cdeb03c35f9eaebbb9720b036680f9a2d/transformers-4.6.1-py3-none-any.whl (2.2MB)\n",
            "\u001b[K     |████████████████████████████████| 2.3MB 8.6MB/s \n",
            "\u001b[?25hRequirement already satisfied: numpy>=1.17 in /usr/local/lib/python3.7/dist-packages (from transformers) (1.19.5)\n",
            "Collecting tokenizers<0.11,>=0.10.1\n",
            "\u001b[?25l  Downloading https://files.pythonhosted.org/packages/d4/e2/df3543e8ffdab68f5acc73f613de9c2b155ac47f162e725dcac87c521c11/tokenizers-0.10.3-cp37-cp37m-manylinux_2_5_x86_64.manylinux1_x86_64.manylinux_2_12_x86_64.manylinux2010_x86_64.whl (3.3MB)\n",
            "\u001b[K     |████████████████████████████████| 3.3MB 50.8MB/s \n",
            "\u001b[?25hCollecting sacremoses\n",
            "\u001b[?25l  Downloading https://files.pythonhosted.org/packages/75/ee/67241dc87f266093c533a2d4d3d69438e57d7a90abb216fa076e7d475d4a/sacremoses-0.0.45-py3-none-any.whl (895kB)\n",
            "\u001b[K     |████████████████████████████████| 901kB 43.8MB/s \n",
            "\u001b[?25hRequirement already satisfied: importlib-metadata; python_version < \"3.8\" in /usr/local/lib/python3.7/dist-packages (from transformers) (4.0.1)\n",
            "Collecting huggingface-hub==0.0.8\n",
            "  Downloading https://files.pythonhosted.org/packages/a1/88/7b1e45720ecf59c6c6737ff332f41c955963090a18e72acbcbeac6b25e86/huggingface_hub-0.0.8-py3-none-any.whl\n",
            "Requirement already satisfied: tqdm>=4.27 in /usr/local/lib/python3.7/dist-packages (from transformers) (4.41.1)\n",
            "Requirement already satisfied: requests in /usr/local/lib/python3.7/dist-packages (from transformers) (2.23.0)\n",
            "Requirement already satisfied: filelock in /usr/local/lib/python3.7/dist-packages (from transformers) (3.0.12)\n",
            "Requirement already satisfied: regex!=2019.12.17 in /usr/local/lib/python3.7/dist-packages (from transformers) (2019.12.20)\n",
            "Requirement already satisfied: packaging in /usr/local/lib/python3.7/dist-packages (from transformers) (20.9)\n",
            "Requirement already satisfied: click in /usr/local/lib/python3.7/dist-packages (from sacremoses->transformers) (7.1.2)\n",
            "Requirement already satisfied: six in /usr/local/lib/python3.7/dist-packages (from sacremoses->transformers) (1.15.0)\n",
            "Requirement already satisfied: joblib in /usr/local/lib/python3.7/dist-packages (from sacremoses->transformers) (1.0.1)\n",
            "Requirement already satisfied: zipp>=0.5 in /usr/local/lib/python3.7/dist-packages (from importlib-metadata; python_version < \"3.8\"->transformers) (3.4.1)\n",
            "Requirement already satisfied: typing-extensions>=3.6.4; python_version < \"3.8\" in /usr/local/lib/python3.7/dist-packages (from importlib-metadata; python_version < \"3.8\"->transformers) (3.7.4.3)\n",
            "Requirement already satisfied: certifi>=2017.4.17 in /usr/local/lib/python3.7/dist-packages (from requests->transformers) (2020.12.5)\n",
            "Requirement already satisfied: idna<3,>=2.5 in /usr/local/lib/python3.7/dist-packages (from requests->transformers) (2.10)\n",
            "Requirement already satisfied: urllib3!=1.25.0,!=1.25.1,<1.26,>=1.21.1 in /usr/local/lib/python3.7/dist-packages (from requests->transformers) (1.24.3)\n",
            "Requirement already satisfied: chardet<4,>=3.0.2 in /usr/local/lib/python3.7/dist-packages (from requests->transformers) (3.0.4)\n",
            "Requirement already satisfied: pyparsing>=2.0.2 in /usr/local/lib/python3.7/dist-packages (from packaging->transformers) (2.4.7)\n",
            "Installing collected packages: tokenizers, sacremoses, huggingface-hub, transformers\n",
            "Successfully installed huggingface-hub-0.0.8 sacremoses-0.0.45 tokenizers-0.10.3 transformers-4.6.1\n"
          ],
          "name": "stdout"
        }
      ]
    },
    {
      "cell_type": "code",
      "metadata": {
        "colab": {
          "base_uri": "https://localhost:8080/"
        },
        "id": "QIZzSlxcJSIq",
        "outputId": "203211de-9f0e-41ac-f6b8-e3b639eb50b4"
      },
      "source": [
        "# get the data\n",
        "# dataset courtesy Rishabh Misra & Kaggle\n",
        "# Link: https://www.kaggle.com/rmisra/news-category-dataset\n",
        "# data is also availabl here: https://www.kaggle.com/rmisra/news-category-dataset?select=News_Category_Dataset_v2.json \n",
        "! git clone https://github.com/nomadotto/News_Classifier.git\n",
        "% cd News_Classifier"
      ],
      "execution_count": 6,
      "outputs": [
        {
          "output_type": "stream",
          "text": [
            "Cloning into 'News_Classifier'...\n",
            "remote: Enumerating objects: 25, done.\u001b[K\n",
            "remote: Total 25 (delta 0), reused 0 (delta 0), pack-reused 25\u001b[K\n",
            "Unpacking objects: 100% (25/25), done.\n",
            "/content/News_Classifier\n"
          ],
          "name": "stdout"
        }
      ]
    },
    {
      "cell_type": "code",
      "metadata": {
        "colab": {
          "base_uri": "https://localhost:8080/"
        },
        "id": "4q1ISxGlHJDu",
        "outputId": "d6106d55-0552-4364-87ea-9f017249d8c2"
      },
      "source": [
        "lst_dics = []\n",
        "with open('News_Category_Dataset_v2.json', mode='r', errors='ignore') as json_file:\n",
        "    for dic in json_file:\n",
        "        lst_dics.append( json.loads(dic) )\n",
        "## print the first one\n",
        "lst_dics[0]"
      ],
      "execution_count": 7,
      "outputs": [
        {
          "output_type": "execute_result",
          "data": {
            "text/plain": [
              "{'authors': 'Melissa Jeltsen',\n",
              " 'category': 'CRIME',\n",
              " 'date': '2018-05-26',\n",
              " 'headline': 'There Were 2 Mass Shootings In Texas Last Week, But Only 1 On TV',\n",
              " 'link': 'https://www.huffingtonpost.com/entry/texas-amanda-painter-mass-shooting_us_5b081ab4e4b0802d69caad89',\n",
              " 'short_description': 'She left her husband. He killed their children. Just another day in America.'}"
            ]
          },
          "metadata": {
            "tags": []
          },
          "execution_count": 7
        }
      ]
    },
    {
      "cell_type": "code",
      "metadata": {
        "colab": {
          "base_uri": "https://localhost:8080/",
          "height": 204
        },
        "id": "7AH8Jj1BN_6D",
        "outputId": "40a0c047-51bd-4073-c9ec-6b15a86f80d3"
      },
      "source": [
        "## create dtf\n",
        "dtf = pd.DataFrame(lst_dics)\n",
        "## filter categories\n",
        "dtf = dtf[ dtf[\"category\"].isin(['ENTERTAINMENT','POLITICS','TECH'])        ][[\"category\",\"headline\"]]\n",
        "## rename columns\n",
        "dtf = dtf.rename(columns={\"category\":\"y\", \"headline\":\"text\"})\n",
        "## print 5 random rows\n",
        "dtf.sample(5)"
      ],
      "execution_count": 46,
      "outputs": [
        {
          "output_type": "execute_result",
          "data": {
            "text/html": [
              "<div>\n",
              "<style scoped>\n",
              "    .dataframe tbody tr th:only-of-type {\n",
              "        vertical-align: middle;\n",
              "    }\n",
              "\n",
              "    .dataframe tbody tr th {\n",
              "        vertical-align: top;\n",
              "    }\n",
              "\n",
              "    .dataframe thead th {\n",
              "        text-align: right;\n",
              "    }\n",
              "</style>\n",
              "<table border=\"1\" class=\"dataframe\">\n",
              "  <thead>\n",
              "    <tr style=\"text-align: right;\">\n",
              "      <th></th>\n",
              "      <th>y</th>\n",
              "      <th>text</th>\n",
              "    </tr>\n",
              "  </thead>\n",
              "  <tbody>\n",
              "    <tr>\n",
              "      <th>31046</th>\n",
              "      <td>POLITICS</td>\n",
              "      <td>Trump And Master Salesmanship Lose, Facts And ...</td>\n",
              "    </tr>\n",
              "    <tr>\n",
              "      <th>112090</th>\n",
              "      <td>ENTERTAINMENT</td>\n",
              "      <td>Exclusive New Lady Antebellum Video</td>\n",
              "    </tr>\n",
              "    <tr>\n",
              "      <th>35977</th>\n",
              "      <td>POLITICS</td>\n",
              "      <td>There Have Been No Fatal Terror Attacks In The...</td>\n",
              "    </tr>\n",
              "    <tr>\n",
              "      <th>58609</th>\n",
              "      <td>TECH</td>\n",
              "      <td>How A Digital Divide Leaves Parts Of Rural Ame...</td>\n",
              "    </tr>\n",
              "    <tr>\n",
              "      <th>25941</th>\n",
              "      <td>POLITICS</td>\n",
              "      <td>Trump Denies Mentioning The Word 'Israel' To R...</td>\n",
              "    </tr>\n",
              "  </tbody>\n",
              "</table>\n",
              "</div>"
            ],
            "text/plain": [
              "                    y                                               text\n",
              "31046        POLITICS  Trump And Master Salesmanship Lose, Facts And ...\n",
              "112090  ENTERTAINMENT                Exclusive New Lady Antebellum Video\n",
              "35977        POLITICS  There Have Been No Fatal Terror Attacks In The...\n",
              "58609            TECH  How A Digital Divide Leaves Parts Of Rural Ame...\n",
              "25941        POLITICS  Trump Denies Mentioning The Word 'Israel' To R..."
            ]
          },
          "metadata": {
            "tags": []
          },
          "execution_count": 46
        }
      ]
    },
    {
      "cell_type": "code",
      "metadata": {
        "id": "fWzYSkV_OGZW"
      },
      "source": [
        "'''\n",
        "Preprocess a string.\n",
        ":parameter\n",
        "    :param text: string - name of column containing text\n",
        "    :param lst_stopwords: list - list of stopwords to remove\n",
        "    :param flg_stemm: bool - whether stemming is to be applied\n",
        "    :param flg_lemm: bool - whether lemmitisation is to be applied\n",
        ":return\n",
        "    cleaned text\n",
        "'''\n",
        "def utils_preprocess_text(text, flg_stemm=False, flg_lemm=True, lst_stopwords=None):\n",
        "    ## clean (convert to lowercase and remove punctuations and characters and then strip)\n",
        "    text = re.sub(r'[^\\w\\s]', '', str(text).lower().strip())\n",
        "            \n",
        "    ## Tokenize (convert from string to list)\n",
        "    lst_text = text.split()    \n",
        "    ## remove Stopwords\n",
        "    if lst_stopwords is not None:\n",
        "        lst_text = [word for word in lst_text if word not in \n",
        "                    lst_stopwords]\n",
        "                \n",
        "    ## Stemming (remove -ing, -ly, ...)\n",
        "    if flg_stemm == True:\n",
        "        ps = nltk.stem.porter.PorterStemmer()\n",
        "        lst_text = [ps.stem(word) for word in lst_text]\n",
        "                \n",
        "    ## Lemmatisation (convert the word into root word)\n",
        "    if flg_lemm == True:\n",
        "        lem = nltk.stem.wordnet.WordNetLemmatizer()\n",
        "        lst_text = [lem.lemmatize(word) for word in lst_text]\n",
        "            \n",
        "    ## back to string from list\n",
        "    text = \" \".join(lst_text)\n",
        "    return text"
      ],
      "execution_count": 10,
      "outputs": []
    },
    {
      "cell_type": "code",
      "metadata": {
        "colab": {
          "base_uri": "https://localhost:8080/"
        },
        "id": "Zv8j497ROPmE",
        "outputId": "0ca4b5bc-9f91-472a-c8f2-d3d08c79507a"
      },
      "source": [
        "nltk.download(\"stopwords\")\n",
        "nltk.download(\"wordnet\")\n",
        "lst_stopwords = nltk.corpus.stopwords.words(\"english\")\n",
        "lst_stopwords"
      ],
      "execution_count": 15,
      "outputs": [
        {
          "output_type": "stream",
          "text": [
            "[nltk_data] Downloading package stopwords to /root/nltk_data...\n",
            "[nltk_data]   Package stopwords is already up-to-date!\n",
            "[nltk_data] Downloading package wordnet to /root/nltk_data...\n",
            "[nltk_data]   Unzipping corpora/wordnet.zip.\n"
          ],
          "name": "stdout"
        },
        {
          "output_type": "execute_result",
          "data": {
            "text/plain": [
              "['i',\n",
              " 'me',\n",
              " 'my',\n",
              " 'myself',\n",
              " 'we',\n",
              " 'our',\n",
              " 'ours',\n",
              " 'ourselves',\n",
              " 'you',\n",
              " \"you're\",\n",
              " \"you've\",\n",
              " \"you'll\",\n",
              " \"you'd\",\n",
              " 'your',\n",
              " 'yours',\n",
              " 'yourself',\n",
              " 'yourselves',\n",
              " 'he',\n",
              " 'him',\n",
              " 'his',\n",
              " 'himself',\n",
              " 'she',\n",
              " \"she's\",\n",
              " 'her',\n",
              " 'hers',\n",
              " 'herself',\n",
              " 'it',\n",
              " \"it's\",\n",
              " 'its',\n",
              " 'itself',\n",
              " 'they',\n",
              " 'them',\n",
              " 'their',\n",
              " 'theirs',\n",
              " 'themselves',\n",
              " 'what',\n",
              " 'which',\n",
              " 'who',\n",
              " 'whom',\n",
              " 'this',\n",
              " 'that',\n",
              " \"that'll\",\n",
              " 'these',\n",
              " 'those',\n",
              " 'am',\n",
              " 'is',\n",
              " 'are',\n",
              " 'was',\n",
              " 'were',\n",
              " 'be',\n",
              " 'been',\n",
              " 'being',\n",
              " 'have',\n",
              " 'has',\n",
              " 'had',\n",
              " 'having',\n",
              " 'do',\n",
              " 'does',\n",
              " 'did',\n",
              " 'doing',\n",
              " 'a',\n",
              " 'an',\n",
              " 'the',\n",
              " 'and',\n",
              " 'but',\n",
              " 'if',\n",
              " 'or',\n",
              " 'because',\n",
              " 'as',\n",
              " 'until',\n",
              " 'while',\n",
              " 'of',\n",
              " 'at',\n",
              " 'by',\n",
              " 'for',\n",
              " 'with',\n",
              " 'about',\n",
              " 'against',\n",
              " 'between',\n",
              " 'into',\n",
              " 'through',\n",
              " 'during',\n",
              " 'before',\n",
              " 'after',\n",
              " 'above',\n",
              " 'below',\n",
              " 'to',\n",
              " 'from',\n",
              " 'up',\n",
              " 'down',\n",
              " 'in',\n",
              " 'out',\n",
              " 'on',\n",
              " 'off',\n",
              " 'over',\n",
              " 'under',\n",
              " 'again',\n",
              " 'further',\n",
              " 'then',\n",
              " 'once',\n",
              " 'here',\n",
              " 'there',\n",
              " 'when',\n",
              " 'where',\n",
              " 'why',\n",
              " 'how',\n",
              " 'all',\n",
              " 'any',\n",
              " 'both',\n",
              " 'each',\n",
              " 'few',\n",
              " 'more',\n",
              " 'most',\n",
              " 'other',\n",
              " 'some',\n",
              " 'such',\n",
              " 'no',\n",
              " 'nor',\n",
              " 'not',\n",
              " 'only',\n",
              " 'own',\n",
              " 'same',\n",
              " 'so',\n",
              " 'than',\n",
              " 'too',\n",
              " 'very',\n",
              " 's',\n",
              " 't',\n",
              " 'can',\n",
              " 'will',\n",
              " 'just',\n",
              " 'don',\n",
              " \"don't\",\n",
              " 'should',\n",
              " \"should've\",\n",
              " 'now',\n",
              " 'd',\n",
              " 'll',\n",
              " 'm',\n",
              " 'o',\n",
              " 're',\n",
              " 've',\n",
              " 'y',\n",
              " 'ain',\n",
              " 'aren',\n",
              " \"aren't\",\n",
              " 'couldn',\n",
              " \"couldn't\",\n",
              " 'didn',\n",
              " \"didn't\",\n",
              " 'doesn',\n",
              " \"doesn't\",\n",
              " 'hadn',\n",
              " \"hadn't\",\n",
              " 'hasn',\n",
              " \"hasn't\",\n",
              " 'haven',\n",
              " \"haven't\",\n",
              " 'isn',\n",
              " \"isn't\",\n",
              " 'ma',\n",
              " 'mightn',\n",
              " \"mightn't\",\n",
              " 'mustn',\n",
              " \"mustn't\",\n",
              " 'needn',\n",
              " \"needn't\",\n",
              " 'shan',\n",
              " \"shan't\",\n",
              " 'shouldn',\n",
              " \"shouldn't\",\n",
              " 'wasn',\n",
              " \"wasn't\",\n",
              " 'weren',\n",
              " \"weren't\",\n",
              " 'won',\n",
              " \"won't\",\n",
              " 'wouldn',\n",
              " \"wouldn't\"]"
            ]
          },
          "metadata": {
            "tags": []
          },
          "execution_count": 15
        }
      ]
    },
    {
      "cell_type": "code",
      "metadata": {
        "colab": {
          "base_uri": "https://localhost:8080/"
        },
        "id": "Nd_aneaqPQPi",
        "outputId": "e9eb8073-fb0c-4af0-f1d3-644525832d32"
      },
      "source": [
        "dtf[\"text_clean\"] = dtf[\"text\"].apply(lambda x: \n",
        "          utils_preprocess_text(x, flg_stemm=False, flg_lemm=True, \n",
        "          lst_stopwords=lst_stopwords))\n",
        "dtf.head()\n",
        "dtf[\"text_clean\"].head()"
      ],
      "execution_count": 47,
      "outputs": [
        {
          "output_type": "execute_result",
          "data": {
            "text/plain": [
              "1    smith join diplo nicky jam 2018 world cup offi...\n",
              "2                 hugh grant marries first time age 57\n",
              "3    jim carrey blast castrato adam schiff democrat...\n",
              "4    julianna margulies us donald trump poop bag pi...\n",
              "5    morgan freeman devastated sexual harassment cl...\n",
              "Name: text_clean, dtype: object"
            ]
          },
          "metadata": {
            "tags": []
          },
          "execution_count": 47
        }
      ]
    },
    {
      "cell_type": "code",
      "metadata": {
        "id": "6-9FFXPGPp2V"
      },
      "source": [
        "nlp = gensim_api.load(\"glove-wiki-gigaword-300\")\n"
      ],
      "execution_count": 38,
      "outputs": []
    },
    {
      "cell_type": "code",
      "metadata": {
        "colab": {
          "base_uri": "https://localhost:8080/"
        },
        "id": "dKGuo3MGRD1O",
        "outputId": "907913d9-bbf7-42c3-c4ed-a71e65a436cc"
      },
      "source": [
        "nlp.most_similar([\"diabetes\"], topn=10)"
      ],
      "execution_count": 39,
      "outputs": [
        {
          "output_type": "execute_result",
          "data": {
            "text/plain": [
              "[('hypertension', 0.7783902883529663),\n",
              " ('obesity', 0.7220836877822876),\n",
              " ('asthma', 0.6963690519332886),\n",
              " ('alzheimer', 0.6956477165222168),\n",
              " ('arthritis', 0.6762572526931763),\n",
              " ('diabetics', 0.6576086282730103),\n",
              " ('osteoporosis', 0.6514430642127991),\n",
              " ('cardiovascular', 0.6253440380096436),\n",
              " ('disease', 0.6239296197891235),\n",
              " ('epilepsy', 0.6215373873710632)]"
            ]
          },
          "metadata": {
            "tags": []
          },
          "execution_count": 39
        }
      ]
    },
    {
      "cell_type": "code",
      "metadata": {
        "colab": {
          "base_uri": "https://localhost:8080/"
        },
        "id": "Ye_6fNjQSVXh",
        "outputId": "58851f51-887e-4be3-f1ab-38bc1abc242b"
      },
      "source": [
        "## Function to apply\n",
        "def get_similar_words(lst_words, top, nlp):\n",
        "    lst_out = lst_words\n",
        "    for tupla in nlp.most_similar(lst_words, topn=top):\n",
        "        lst_out.append(tupla[0])\n",
        "    return list(set(lst_out))\n",
        "## Create Dictionary {category:[keywords]}\n",
        "dic_clusters = {}\n",
        "dic_clusters[\"ENTERTAINMENT\"] = get_similar_words(['celebrity','cinema','movie','music'], \n",
        "                  top=30, nlp=nlp)\n",
        "dic_clusters[\"POLITICS\"] = get_similar_words(['gop','clinton','president','obama','republican']\n",
        "                  , top=30, nlp=nlp)\n",
        "dic_clusters[\"TECH\"] = get_similar_words(['amazon','android','app','apple','facebook',\n",
        "                   'google','tech'], \n",
        "                   top=30, nlp=nlp)\n",
        "## print some\n",
        "for k,v in dic_clusters.items():\n",
        "    print(k, \": \", v[0:5], \"...\", len(v))"
      ],
      "execution_count": 40,
      "outputs": [
        {
          "output_type": "stream",
          "text": [
            "ENTERTAINMENT :  ['hollywood', 'dance', 'bollywood', 'films', 'theatrical'] ... 34\n",
            "POLITICS :  ['senator', 'cheney', 'nominee', 'sen.', 'presidential'] ... 35\n",
            "TECH :  ['web', 'ios', 'apps', 'messaging', 'twitter'] ... 37\n"
          ],
          "name": "stdout"
        }
      ]
    },
    {
      "cell_type": "code",
      "metadata": {
        "colab": {
          "base_uri": "https://localhost:8080/",
          "height": 254
        },
        "id": "ttpqxUIMSMm0",
        "outputId": "dea0a241-4186-4143-e65f-0a861bc4c4b4"
      },
      "source": [
        "## word embedding\n",
        "tot_words = [word for v in dic_clusters.values() for word in v]\n",
        "X = nlp[tot_words]\n",
        "        \n",
        "## pca\n",
        "pca = manifold.TSNE(perplexity=40, n_components=2, init='pca')\n",
        "X = pca.fit_transform(X)\n",
        "\n",
        "## create dtf\n",
        "dtf = pd.DataFrame()\n",
        "for k,v in dic_clusters.items():\n",
        "    size = len(dtf) + len(v)\n",
        "    dtf_group = pd.DataFrame(X[len(dtf):size], columns=[\"x\",\"y\"], \n",
        "                             index=v)\n",
        "    dtf_group[\"cluster\"] = k\n",
        "    dtf = dtf.append(dtf_group)\n",
        "        \n",
        "## plot\n",
        "fig, ax = plt.subplots()\n",
        "sns.scatterplot(data=dtf, x=\"x\", y=\"y\", hue=\"cluster\", ax=ax)\n",
        "ax.legend().texts[0].set_text(None)\n",
        "ax.set(xlabel=None, ylabel=None, xticks=[], xticklabels=[], \n",
        "       yticks=[], yticklabels=[])\n",
        "for i in range(len(dtf)):\n",
        "    ax.annotate(dtf.index[i], \n",
        "               xy=(dtf[\"x\"].iloc[i],dtf[\"y\"].iloc[i]), \n",
        "               xytext=(5,2), textcoords='offset points', \n",
        "               ha='right', va='bottom')"
      ],
      "execution_count": 41,
      "outputs": [
        {
          "output_type": "display_data",
          "data": {
            "image/png": "[encoded data removed]",
            "text/plain": [
              "<Figure size 432x288 with 1 Axes>"
            ]
          },
          "metadata": {
            "tags": []
          }
        }
      ]
    },
    {
      "cell_type": "code",
      "metadata": {
        "colab": {
          "base_uri": "https://localhost:8080/",
          "height": 254
        },
        "id": "_43MMZodSlhf",
        "outputId": "74260748-987e-4360-8065-e53854b61f0c"
      },
      "source": [
        "## word embedding\n",
        "tot_words = [word for v in dic_clusters.values() for word in v]\n",
        "X = nlp[tot_words]\n",
        "        \n",
        "## pca\n",
        "pca = manifold.TSNE(perplexity=40, n_components=2, init='pca')\n",
        "X = pca.fit_transform(X)\n",
        "\n",
        "## create dtf\n",
        "dtf = pd.DataFrame()\n",
        "for k,v in dic_clusters.items():\n",
        "    size = len(dtf) + len(v)\n",
        "    dtf_group = pd.DataFrame(X[len(dtf):size], columns=[\"x\",\"y\"], \n",
        "                             index=v)\n",
        "    dtf_group[\"cluster\"] = k\n",
        "    dtf = dtf.append(dtf_group)\n",
        "        \n",
        "## plot\n",
        "fig, ax = plt.subplots()\n",
        "sns.scatterplot(data=dtf, x=\"x\", y=\"y\", hue=\"cluster\", ax=ax)\n",
        "ax.legend().texts[0].set_text(None)\n",
        "ax.set(xlabel=None, ylabel=None, xticks=[], xticklabels=[], \n",
        "       yticks=[], yticklabels=[])\n",
        "for i in range(len(dtf)):\n",
        "    ax.annotate(dtf.index[i], \n",
        "               xy=(dtf[\"x\"].iloc[i],dtf[\"y\"].iloc[i]), \n",
        "               xytext=(5,2), textcoords='offset points', \n",
        "               ha='right', va='bottom')"
      ],
      "execution_count": 42,
      "outputs": [
        {
          "output_type": "display_data",
          "data": {
            "image/png": "[encoded data removed]",
            "text/plain": [
              "<Figure size 432x288 with 1 Axes>"
            ]
          },
          "metadata": {
            "tags": []
          }
        }
      ]
    },
    {
      "cell_type": "code",
      "metadata": {
        "colab": {
          "base_uri": "https://localhost:8080/",
          "height": 367,
          "referenced_widgets": [
            "7082bc6696d847299b06c81a64c50feb",
            "59209c88040646cdbfdcca9cc2e98ee3",
            "4df8e6b511084655a554173f444ef389",
            "8c9b124de1ec4f789ae29d91437b0dc9",
            "1dc6dd23cb77469aa1f70cdad0bb3e47",
            "78e37bbe82124415b09c5dc0a886712e",
            "7b950b09fec84b7b99ba09936d8d6a66",
            "a6605536baf6437b969ff196a7da2f21",
            "d715b68b5be745eba2aca0be5c58b8da",
            "2dc65eedeb3d4f65b74a3dff3997fd8b",
            "5cba4105fd62412d9cd8336eb35c1d3b",
            "4163c7b7252f40c9962e4279257367f9",
            "06922940a16746d4819b2f0a0aac9b38",
            "1adfbb502f284294a3041d667592aaae",
            "4430f7ea17a64c2599e8efc48c908314",
            "fad02eec4fc3438abaec6f0f2fd587a2",
            "45a016764beb4bd78b61e104f3f47859",
            "d9c2aa4ad27a45cbb74abf1751a37fe9",
            "735a4b3782e442109c377ab6946369f8",
            "b8da68a98f48473c8183032b07b5f7ea",
            "11b5afe0c31e477fb0f2b64bc8012697",
            "0f6c2468a9704f1da1ee0324e26f4588",
            "a08ef6df48ac47ccb047b7cd9bdb0c66",
            "5961cbbdad5b4b04a933e19fa1e1e092",
            "865e01e16ae34a7cad214681c6a22f60",
            "5443009a1aba4d488acde361b2ace538",
            "b3fb0d1baf814cbfa80b443dc63cb452",
            "cc16ee2520c244be819a019ac1f2bc03",
            "88cdeb81321847579ff0f401b63a8033",
            "ddfb19918f4b4727b2460c0112da4e9e",
            "e1bb94cd68f54980b82c764e65d0c0b6",
            "ec1dfd0258794426aa06de875325e008",
            "46e61b6757db4889b0ecde3f91991461",
            "a4e61681db404d9485091c7c324a0329",
            "aa9cc4eaa15a42298677ec94a2902a18",
            "05c4d6602dd2443d8e69d9129193624e",
            "350d56e875534135a8d7aae838eb0887",
            "233a7db019b144ab9823f70b74fa1deb",
            "1544aa6406ad40c68c1e3ec919679424",
            "dc408710af75474aba08695e576b4495"
          ]
        },
        "id": "3olPIk4qSqTw",
        "outputId": "0994b29e-2e3a-4502-9329-9e5940092c22"
      },
      "source": [
        "tokenizer = transformers.BertTokenizer.from_pretrained('bert-base-uncased', do_lower_case=True)\n",
        "nlp = transformers.TFBertModel.from_pretrained('bert-base-uncased')"
      ],
      "execution_count": 31,
      "outputs": [
        {
          "output_type": "display_data",
          "data": {
            "application/vnd.jupyter.widget-view+json": {
              "model_id": "7082bc6696d847299b06c81a64c50feb",
              "version_minor": 0,
              "version_major": 2
            },
            "text/plain": [
              "HBox(children=(FloatProgress(value=0.0, description='Downloading', max=231508.0, style=ProgressStyle(descripti…"
            ]
          },
          "metadata": {
            "tags": []
          }
        },
        {
          "output_type": "stream",
          "text": [
            "\n"
          ],
          "name": "stdout"
        },
        {
          "output_type": "display_data",
          "data": {
            "application/vnd.jupyter.widget-view+json": {
              "model_id": "d715b68b5be745eba2aca0be5c58b8da",
              "version_minor": 0,
              "version_major": 2
            },
            "text/plain": [
              "HBox(children=(FloatProgress(value=0.0, description='Downloading', max=28.0, style=ProgressStyle(description_w…"
            ]
          },
          "metadata": {
            "tags": []
          }
        },
        {
          "output_type": "stream",
          "text": [
            "\n"
          ],
          "name": "stdout"
        },
        {
          "output_type": "display_data",
          "data": {
            "application/vnd.jupyter.widget-view+json": {
              "model_id": "45a016764beb4bd78b61e104f3f47859",
              "version_minor": 0,
              "version_major": 2
            },
            "text/plain": [
              "HBox(children=(FloatProgress(value=0.0, description='Downloading', max=466062.0, style=ProgressStyle(descripti…"
            ]
          },
          "metadata": {
            "tags": []
          }
        },
        {
          "output_type": "stream",
          "text": [
            "\n"
          ],
          "name": "stdout"
        },
        {
          "output_type": "display_data",
          "data": {
            "application/vnd.jupyter.widget-view+json": {
              "model_id": "865e01e16ae34a7cad214681c6a22f60",
              "version_minor": 0,
              "version_major": 2
            },
            "text/plain": [
              "HBox(children=(FloatProgress(value=0.0, description='Downloading', max=570.0, style=ProgressStyle(description_…"
            ]
          },
          "metadata": {
            "tags": []
          }
        },
        {
          "output_type": "stream",
          "text": [
            "\n"
          ],
          "name": "stdout"
        },
        {
          "output_type": "display_data",
          "data": {
            "application/vnd.jupyter.widget-view+json": {
              "model_id": "46e61b6757db4889b0ecde3f91991461",
              "version_minor": 0,
              "version_major": 2
            },
            "text/plain": [
              "HBox(children=(FloatProgress(value=0.0, description='Downloading', max=536063208.0, style=ProgressStyle(descri…"
            ]
          },
          "metadata": {
            "tags": []
          }
        },
        {
          "output_type": "stream",
          "text": [
            "\n"
          ],
          "name": "stdout"
        },
        {
          "output_type": "stream",
          "text": [
            "Some layers from the model checkpoint at bert-base-uncased were not used when initializing TFBertModel: ['nsp___cls', 'mlm___cls']\n",
            "- This IS expected if you are initializing TFBertModel from the checkpoint of a model trained on another task or with another architecture (e.g. initializing a BertForSequenceClassification model from a BertForPreTraining model).\n",
            "- This IS NOT expected if you are initializing TFBertModel from the checkpoint of a model that you expect to be exactly identical (initializing a BertForSequenceClassification model from a BertForSequenceClassification model).\n",
            "All the layers of TFBertModel were initialized from the model checkpoint at bert-base-uncased.\n",
            "If your task is similar to the task the model of the checkpoint was trained on, you can already use TFBertModel for predictions without further training.\n"
          ],
          "name": "stderr"
        }
      ]
    },
    {
      "cell_type": "code",
      "metadata": {
        "colab": {
          "base_uri": "https://localhost:8080/"
        },
        "id": "iFQj-KHkTBoA",
        "outputId": "df808ce7-2396-461e-94ff-152eb9c540fe"
      },
      "source": [
        "txt = \"river bank\"\n",
        "## tokenize\n",
        "idx = tokenizer.encode(txt)\n",
        "print(\"tokens:\", tokenizer.convert_ids_to_tokens(idx))\n",
        "print(\"ids   :\", tokenizer.encode(txt))\n",
        "## word embedding\n",
        "idx = np.array(idx)[None,:]\n",
        "embedding = nlp(idx)\n",
        "print(\"shape:\", embedding[0][0].shape)\n",
        "## vector of the second input word\n",
        "embedding[0][0][2]"
      ],
      "execution_count": 32,
      "outputs": [
        {
          "output_type": "stream",
          "text": [
            "tokens: ['[CLS]', 'river', 'bank', '[SEP]']\n",
            "ids   : [101, 2314, 2924, 102]\n",
            "shape: (4, 768)\n"
          ],
          "name": "stdout"
        },
        {
          "output_type": "execute_result",
          "data": {
            "text/plain": [
              "<tf.Tensor: shape=(768,), dtype=float32, numpy=\n",
              "array([-7.05822855e-02, -6.21527672e-01, -7.02520967e-01, -2.49587402e-01,\n",
              "        5.77253878e-01,  4.81010586e-01,  2.44046316e-01,  5.12865603e-01,\n",
              "       -3.52891207e-01, -8.16164255e-01,  3.99641395e-01,  1.81418449e-01,\n",
              "        5.12113869e-01,  1.44479468e-01, -1.42232728e+00, -1.06337428e-01,\n",
              "        1.06131630e-02, -4.34667945e-01,  1.13796735e+00,  7.06453770e-02,\n",
              "        6.18477166e-01,  5.76443449e-02,  2.41198286e-01,  2.96010703e-01,\n",
              "       -2.22420484e-01,  2.06983268e-01,  4.50172186e-01,  1.95634857e-01,\n",
              "        7.22260028e-03,  7.06086338e-01,  6.82602167e-01, -3.35966051e-01,\n",
              "        4.75641280e-01,  3.38769644e-01, -1.90573052e-01, -1.12146008e+00,\n",
              "       -4.32032049e-02, -1.56870157e-01,  4.73267883e-02,  3.38264734e-01,\n",
              "       -4.73710299e-01, -2.87371904e-01, -6.14665486e-02,  3.93016264e-02,\n",
              "       -9.84504968e-02,  5.61645953e-03,  2.15944916e-01, -3.90442759e-02,\n",
              "       -7.03861654e-01,  1.26935855e-01,  2.32842527e-02,  3.95274997e-01,\n",
              "       -6.29368603e-01,  3.81529555e-02,  1.70966446e-01,  5.68101287e-01,\n",
              "        3.44137460e-01, -3.54945928e-01, -6.42791808e-01,  3.69595140e-02,\n",
              "        4.56915081e-01, -4.81999815e-01, -1.08038500e-01, -3.91956627e-01,\n",
              "       -4.09936532e-03,  1.90877214e-01,  4.32799280e-01,  4.64556575e-01,\n",
              "       -1.09929398e-01,  4.95213479e-01,  3.35495323e-01,  9.19854403e-01,\n",
              "        1.60180673e-01, -3.24443758e-01, -2.13523149e-01, -2.57019401e-01,\n",
              "       -9.23129320e-02,  3.47399473e-01,  1.76733769e-02, -6.76497459e-01,\n",
              "        2.30422094e-02,  3.04452032e-01, -3.35734457e-01, -3.65000188e-01,\n",
              "        2.54925787e-01, -3.78203485e-03, -2.61937916e-01,  4.59401011e-02,\n",
              "       -5.98169625e-01,  1.34261116e-01, -2.98410282e-03, -2.02113837e-01,\n",
              "       -3.15182924e-01, -4.79585737e-01, -5.52915692e-01, -6.71898365e-01,\n",
              "       -5.31220436e-01,  4.36104953e-01,  2.09883660e-01,  4.80141640e-02,\n",
              "        1.39079988e-01, -1.47947848e+00,  5.66853464e-01,  6.15152001e-01,\n",
              "       -3.56206954e-01, -2.63006240e-01,  1.01346411e-02, -6.43102944e-01,\n",
              "        2.58244544e-01,  2.32511312e-01,  4.64122415e-01, -2.44039327e-01,\n",
              "        4.84117866e-01, -3.53591859e-01, -2.42071018e-01,  7.80022800e-01,\n",
              "       -4.30729151e-01, -2.18241751e-01,  5.32287285e-02, -2.59027660e-01,\n",
              "        4.95923907e-02, -7.91403353e-01, -9.06914845e-03,  6.38763964e-01,\n",
              "        4.24307793e-01, -1.31179884e-01, -4.59278435e-01,  3.56201112e-01,\n",
              "       -1.75914049e-01,  3.44451517e-02,  5.73057830e-01,  6.46476626e-01,\n",
              "       -3.10186952e-01, -2.63747245e-01,  1.71438366e-01,  4.31292415e-01,\n",
              "        2.61797309e-01, -5.92406631e-01,  1.16354093e-01, -1.67205200e-01,\n",
              "        1.51265845e-01,  2.25872114e-01,  5.90591908e-01, -3.84857714e-01,\n",
              "        7.62636304e-01,  3.75622422e-01, -2.16540769e-02,  2.61092559e-03,\n",
              "       -1.22947566e-01, -1.42603233e-01, -5.58467031e-01,  1.84801444e-01,\n",
              "        1.34968638e-01, -3.00817400e-01, -1.40653193e-01, -2.84047127e-01,\n",
              "        3.68142217e-01, -7.88781792e-02,  8.16224441e-02,  3.53941917e-01,\n",
              "        7.25305736e-01, -1.98859140e-01, -9.37019810e-02, -2.47796416e-01,\n",
              "        1.00949854e-02, -4.40253377e-01,  8.03753436e-02,  8.61830354e-01,\n",
              "       -2.80023485e-01,  2.43793696e-01, -2.55486012e-01, -6.22628868e-01,\n",
              "        8.91299963e-01, -3.78197104e-01,  4.81684357e-01, -1.31669521e-01,\n",
              "       -9.29360390e-02, -2.27652177e-01, -2.18560502e-01,  2.51979113e-01,\n",
              "       -4.14544493e-01,  6.38255239e-01, -2.09495783e-01, -2.63459921e-01,\n",
              "        1.16116479e-01, -2.14023590e-01, -2.03431007e-02, -3.07719290e-01,\n",
              "        4.89083976e-01, -5.23292243e-01, -2.68586040e-01, -2.40037262e-01,\n",
              "       -1.06200278e+00,  1.88383684e-02, -1.60928994e-01, -1.01986039e+00,\n",
              "        5.90837121e-01, -6.42785788e-01, -8.47219974e-02, -3.06485921e-01,\n",
              "        8.82111311e-01, -2.22461432e-01,  6.53649807e-01,  1.32981479e-01,\n",
              "       -7.89765492e-02,  1.58834159e-01,  5.28022721e-02, -5.36139131e-01,\n",
              "        3.76915574e-01, -1.95731580e-01, -1.05869639e+00,  1.22580194e+00,\n",
              "       -4.32513714e-01,  1.56179875e-01,  4.17976439e-01,  5.06608486e-01,\n",
              "        3.00548017e-01, -1.15750588e-01, -1.31255552e-01,  2.43952721e-01,\n",
              "        3.04260492e-01, -1.83685333e-01, -2.73578197e-01,  2.48491049e-01,\n",
              "       -5.74733317e-01,  1.66123077e-01,  8.01434040e-01, -7.78994679e-01,\n",
              "        3.50740582e-01,  9.98899993e-03, -1.67533696e-01, -1.51092932e-03,\n",
              "        6.18821442e-01, -9.38168645e-01, -7.05288231e-01,  3.10599983e-01,\n",
              "       -4.72783953e-01, -2.58996803e-03, -5.65329418e-02, -2.70521045e-01,\n",
              "       -8.73119906e-02, -2.50815839e-01,  7.15852082e-01, -4.99997824e-01,\n",
              "        8.42950702e-01, -3.66680175e-01,  5.70344627e-01,  3.78284514e-01,\n",
              "       -4.06487554e-01,  2.36989632e-01,  1.88773096e-01, -2.41789088e-01,\n",
              "        2.68502891e-01, -6.70118332e-01, -5.28158426e-01, -6.28461719e-01,\n",
              "        5.09835660e-01, -1.22896619e-02,  1.33168906e-01,  4.49765801e-01,\n",
              "        6.74467027e-01,  5.70162356e-01,  2.45732114e-01,  4.01135296e-01,\n",
              "       -9.42872584e-01,  1.56791195e-01, -1.69289455e-01,  1.17980577e-02,\n",
              "        3.04226905e-01, -3.04855227e-01, -3.91241312e-02, -3.05503588e-02,\n",
              "       -7.21112967e-01,  1.06757474e+00,  3.00460875e-01,  4.18399364e-01,\n",
              "        8.31745803e-01,  4.51772273e-01,  3.79973531e-01,  3.88877690e-02,\n",
              "        6.57028079e-01,  7.25771785e-01, -3.14089119e-01, -3.59060943e-01,\n",
              "        1.83105469e-01, -1.54706433e-01, -5.56596220e-01,  9.98494983e-01,\n",
              "       -6.66038021e-02, -6.32119536e-01, -4.20219183e-01,  7.07992435e-01,\n",
              "       -2.81464636e-01,  1.29889578e-01,  4.32143122e-01,  1.84356868e-01,\n",
              "        1.45689398e-01,  3.84363413e-01,  7.92328656e-01, -5.64119339e-01,\n",
              "       -1.06446430e-01,  5.07815957e-01,  6.34554029e-01, -4.61482704e-01,\n",
              "        2.33549420e-02, -2.44355336e-01,  2.96665225e-02,  3.87940109e-01,\n",
              "       -5.09566545e+00,  3.25123578e-01,  2.70958841e-01, -2.45784730e-01,\n",
              "        5.20607889e-01, -2.59496808e-01,  2.26687729e-01,  4.12778646e-01,\n",
              "       -9.39293087e-01, -3.45668405e-01, -2.12369293e-01, -2.65309572e-01,\n",
              "        9.28743184e-01,  1.25977084e-01,  4.61863190e-01, -1.70685843e-01,\n",
              "        2.99391896e-02, -1.23116732e-01, -3.72413337e-01,  7.04002082e-01,\n",
              "       -8.60569000e-01, -3.96888912e-01,  1.74347132e-01,  3.43553126e-02,\n",
              "        2.94832587e-01, -5.51689193e-02, -9.04104471e-01,  5.14416337e-01,\n",
              "       -5.95654964e-01, -8.28736782e-01, -3.05773675e-01, -4.44463879e-01,\n",
              "        2.46776581e-01,  2.60025293e-01, -3.76850888e-02, -2.72341073e-01,\n",
              "       -3.23043436e-01, -1.95684060e-01,  1.35771692e+00,  2.64337182e-01,\n",
              "       -3.37068915e-01,  2.24706680e-01,  1.42342970e-02,  6.10763967e-01,\n",
              "        6.25047326e-01, -2.88989991e-02, -1.12058230e-01,  6.25602454e-02,\n",
              "        9.25830305e-02,  3.06361675e-01,  6.45154953e-01, -3.09156179e-01,\n",
              "        1.95047289e-01, -4.13477153e-01,  1.58219412e-01,  2.78791040e-02,\n",
              "        2.99770236e-01,  4.09382522e-01, -1.60664380e-01, -5.25604904e-01,\n",
              "        9.30645503e-03, -2.23912254e-01, -7.08211482e-01,  7.54812360e-01,\n",
              "        1.37300164e-01, -6.34858489e-01, -3.26268196e-01, -6.11436605e-01,\n",
              "       -1.08045012e-01,  4.68449175e-01, -1.36660323e-01, -3.57978940e-02,\n",
              "       -4.62620333e-02, -1.34921610e+00, -6.69133127e-01, -7.68018961e-02,\n",
              "       -1.38481617e-01, -6.91289365e-01,  3.45081806e-01,  2.06307709e-01,\n",
              "        4.06490684e-01,  2.18174964e-01,  4.89817083e-01, -2.52894461e-01,\n",
              "       -3.96638781e-01, -1.33445375e-02,  2.86451548e-01, -8.36115360e-01,\n",
              "       -5.79417050e-01,  1.55947149e-01,  1.87065359e-02,  2.27967680e-01,\n",
              "        8.22064519e-01, -5.46191335e-02,  2.38469630e-01, -1.75594687e-02,\n",
              "       -1.40490364e-02, -5.42532146e-01,  5.88290811e-01, -4.79510337e-01,\n",
              "        4.75604057e-01,  1.37693658e-01,  2.97962636e-01, -1.64484680e-02,\n",
              "        1.56845748e-01, -1.74292758e-01, -3.28885585e-01, -2.70639043e-02,\n",
              "       -5.12319207e-01,  5.36372900e-01,  4.98791456e-01, -6.76408827e-01,\n",
              "        8.93731296e-01, -4.10579383e-01, -4.41285610e-01,  6.65356576e-01,\n",
              "       -3.68788719e-01, -3.10680896e-01,  5.77251427e-02,  1.66267194e-02,\n",
              "       -4.36823964e-01, -1.98796883e-01, -8.38396192e-01, -2.75925577e-01,\n",
              "        5.70900679e-01,  6.07047901e-02, -3.96039307e-01, -2.19090488e-02,\n",
              "       -4.66383010e-01,  3.16350490e-01,  3.00775766e-01, -8.25261921e-02,\n",
              "       -4.54365164e-01, -1.05746537e-01,  4.99332249e-01,  8.06272998e-02,\n",
              "       -1.68478251e-01, -3.27079773e-01,  2.79851049e-01,  4.51276869e-01,\n",
              "       -3.34509602e-03, -2.96770394e-01, -5.84577680e-01,  6.74254298e-02,\n",
              "       -3.56905758e-01,  6.97351873e-01, -6.37852371e-01, -3.46739471e-01,\n",
              "        5.98458529e-01,  3.27907115e-01, -4.81115162e-01, -1.78167522e-02,\n",
              "       -7.48055935e-01,  2.23826066e-01,  1.81035802e-01, -1.53701887e-01,\n",
              "        2.95593321e-01, -4.90509421e-01,  1.84493780e-01, -5.78600407e-01,\n",
              "        1.71370104e-01,  1.13209486e-01,  9.76381361e-01,  5.20987332e-01,\n",
              "       -5.42623997e-01,  1.49070227e+00, -4.90358442e-01,  2.38199949e-01,\n",
              "       -6.42930388e-01,  9.76612791e-03,  1.56222135e-01, -5.42557418e-01,\n",
              "       -5.47103286e-01,  6.85659945e-01, -4.22479481e-01,  4.70376343e-01,\n",
              "       -3.19047481e-01, -3.62104326e-02,  1.75794095e-01,  5.44762433e-01,\n",
              "        1.60018802e-02, -4.30532321e-02,  1.54864401e-01,  1.00397877e-02,\n",
              "        3.79647940e-01, -3.30429077e-01, -1.16251275e-01,  1.11685127e-01,\n",
              "        1.51155412e-01,  4.47436094e-01,  2.70549327e-01, -1.90932870e-01,\n",
              "       -1.18693421e-02,  2.20542267e-01,  2.91370600e-01, -1.84318706e-01,\n",
              "        5.94495058e-01, -1.68889761e-02,  6.41707182e-01,  4.78896171e-01,\n",
              "       -1.35716468e-01, -4.05711114e-01,  2.57224560e-01,  4.18804400e-02,\n",
              "        5.48229992e-01,  4.98181075e-01, -4.17168707e-01,  2.22165465e-01,\n",
              "       -3.69364798e-01, -9.92968082e-02,  1.18947644e-02,  9.73986015e-02,\n",
              "       -1.08805013e+00, -4.28478569e-01,  7.89447427e-02,  2.50574142e-01,\n",
              "        3.26777160e-01,  1.27973855e-01, -3.93071741e-01,  1.37819409e-01,\n",
              "       -8.86023939e-02, -3.02932978e-01, -3.75453264e-01,  1.14450753e-01,\n",
              "       -2.49079436e-01,  1.02986157e+00,  1.28847752e-02,  3.69055718e-01,\n",
              "       -4.02409911e-01,  4.51250941e-01, -2.32549384e-03, -2.73789912e-01,\n",
              "        4.64412630e-01,  1.09471790e-01,  1.92111596e-01,  1.90634027e-01,\n",
              "       -2.85205431e-03, -7.61587620e-01,  5.51084757e-01, -2.97583729e-01,\n",
              "       -3.14069062e-01, -5.06550848e-01, -8.09794605e-01,  8.66280571e-02,\n",
              "        1.05638117e-01, -2.30639413e-01,  3.99132669e-02,  9.17638168e-02,\n",
              "        1.72692418e-01,  5.10256708e-01, -6.98352307e-02,  1.74075872e-01,\n",
              "       -7.95526803e-02,  4.77056056e-02, -1.08657151e-01, -6.01286471e-01,\n",
              "       -4.80153412e-01, -3.36467505e-01,  3.23293090e-01,  2.46853113e-01,\n",
              "       -6.61451817e-01,  1.04188018e-01, -8.73299479e-01,  7.28583932e-01,\n",
              "        2.07722992e-01, -5.65804422e-01,  7.20600367e-01,  6.61037639e-02,\n",
              "        5.05186796e-01, -4.61346596e-01,  7.55366981e-01, -3.02061677e-01,\n",
              "        3.25517714e-01, -2.87937671e-02, -2.03582287e-01, -6.31706119e-01,\n",
              "       -1.34503514e-01, -9.36798930e-01,  5.96047878e-01, -1.48151070e-01,\n",
              "       -3.60355973e-01,  3.18802744e-01,  3.46438974e-01,  3.39905508e-02,\n",
              "       -2.35097688e-02,  2.02884391e-01, -2.27293134e-01, -3.86504710e-01,\n",
              "       -4.69509721e-01, -8.23508024e-01,  3.42901915e-01,  2.59828679e-02,\n",
              "       -1.63531080e-01,  7.20670819e-01, -2.44556308e-01,  4.09898251e-01,\n",
              "       -3.54668275e-02, -1.49890184e-01,  7.06520230e-02,  1.04204655e-01,\n",
              "        4.01483029e-02,  1.10258549e-01,  2.44276807e-01,  4.83493924e-01,\n",
              "        6.38711825e-02,  2.57368907e-02, -4.94441032e-01, -4.42098498e-01,\n",
              "        8.91103208e-01, -1.41584858e-01,  2.30833203e-01,  8.95355344e-02,\n",
              "        2.84393430e-01,  4.05946940e-01, -5.47499537e-01, -4.79591548e-01,\n",
              "        4.43911821e-01, -4.67123389e-01, -5.90442359e-01,  2.08942354e-01,\n",
              "        4.00534332e-01, -2.51209915e-01,  3.27977777e-01, -2.71053910e-01,\n",
              "        8.41554463e-01,  3.81588578e-01, -1.10229456e+00, -3.80530477e-01,\n",
              "        2.52161384e-01,  9.49076653e-01,  6.17843159e-02,  2.22279102e-01,\n",
              "       -8.49525854e-02,  1.34939775e-01,  3.53743941e-01,  3.87098610e-01,\n",
              "       -4.02409434e-01,  3.56720835e-01, -2.47163087e-01, -6.05630636e-01,\n",
              "       -2.51164943e-01, -1.74032167e-01,  1.70265645e-01,  1.73505563e-02,\n",
              "        9.11455229e-02, -7.20609486e-01,  2.29764149e-01, -4.32356298e-02,\n",
              "        2.11554691e-01,  1.19739592e+00,  1.59491897e-01, -7.39009142e-01,\n",
              "       -3.97460938e-01, -9.46618795e-01,  2.90421546e-01,  6.29969001e-01,\n",
              "        7.69780099e-01,  2.48220824e-02, -2.30727553e-01,  7.24617422e-01,\n",
              "       -3.36211443e-01, -2.80783847e-02, -7.17526972e-02, -6.34107411e-01,\n",
              "       -5.18057227e-01,  6.26522183e-01, -1.09302568e+00, -1.09138417e+00,\n",
              "       -3.67361635e-01,  5.28019726e-01,  8.45068768e-02, -4.83847782e-02,\n",
              "        6.24054611e-01,  2.59496450e-01, -1.59254149e-01, -1.82488203e-01,\n",
              "       -8.21158409e-01,  6.00646377e-01, -2.32977241e-01, -6.18040502e-01,\n",
              "        2.63902813e-01,  2.02760231e-02, -4.91832972e-01, -1.05306268e+00,\n",
              "        1.61307817e-03, -5.65239549e-01,  5.02529442e-01,  1.12662569e-01,\n",
              "       -2.48243898e-01, -2.28320256e-01, -6.37243152e-01, -2.92579472e-01,\n",
              "        3.23444724e-01, -2.60714054e-01,  6.83391571e-01,  4.15912777e-01,\n",
              "       -7.04911411e-01,  2.93709546e-01,  6.18630588e-01,  8.76966715e-01,\n",
              "        1.91211849e-01,  4.00343128e-02,  2.30685733e-02,  6.14983916e-01,\n",
              "       -2.26738915e-01, -3.46644044e-01, -1.01844966e-01,  4.94515449e-02,\n",
              "       -5.07168055e-01,  4.38312963e-02,  2.11273611e-01,  6.85974300e-01,\n",
              "       -4.53039289e-01,  9.65898216e-01, -1.86698079e-01, -7.04727054e-01,\n",
              "        3.83173466e-01,  1.27184778e-01, -2.15735286e-03, -5.13963282e-01,\n",
              "        1.98372096e-01, -2.15958282e-01, -3.33083570e-01,  3.61136973e-01,\n",
              "       -7.36761928e-01, -5.44081509e-01, -9.58240509e-01,  4.29312699e-03,\n",
              "       -1.55387238e-01,  2.23635778e-01, -1.09440160e+00, -2.90418714e-01,\n",
              "        1.64769813e-01,  1.28032291e+00, -4.93149191e-01,  2.22359821e-01,\n",
              "       -8.68635476e-02, -3.48528087e-01,  1.71594769e-01, -3.73098642e-01,\n",
              "        1.18068807e-01,  5.35375714e-01,  4.19967473e-01,  5.87413132e-01,\n",
              "        2.93206781e-01, -4.63825405e-01,  1.22145057e-01, -2.63021607e-03,\n",
              "        7.74025172e-03, -5.36711514e-01,  5.76291859e-01,  1.71324581e-01,\n",
              "        2.32047334e-01, -5.25724292e-02, -1.65186018e-01,  4.42103893e-02,\n",
              "        1.93824455e-01, -4.25719202e-01, -1.00089657e+00,  1.06255904e-01],\n",
              "      dtype=float32)>"
            ]
          },
          "metadata": {
            "tags": []
          },
          "execution_count": 32
        }
      ]
    },
    {
      "cell_type": "code",
      "metadata": {
        "colab": {
          "base_uri": "https://localhost:8080/",
          "height": 562
        },
        "id": "KEWmoFsHTHY3",
        "outputId": "bbd45a2c-f1aa-423e-c0f3-1beeff6ebe44"
      },
      "source": [
        "dtf[\"text_clean\"].head()\n",
        "## function to apply\n",
        "def utils_bert_embedding(txt, tokenizer, nlp):\n",
        "    idx = tokenizer.encode(txt)\n",
        "    idx = np.array(idx)[None,:]  \n",
        "    embedding = nlp(idx)\n",
        "    X = np.array(embedding[0][0][1:-1])\n",
        "    return X\n",
        "## create list of news vector\n",
        "lst_mean_vecs = [utils_bert_embedding(txt, tokenizer, nlp).mean(0) \n",
        "                 for txt in dtf[\"text_clean\"]]\n",
        "## create the feature matrix (n news x 768)\n",
        "X = np.array(lst_mean_vecs)"
      ],
      "execution_count": 44,
      "outputs": [
        {
          "output_type": "error",
          "ename": "KeyError",
          "evalue": "ignored",
          "traceback": [
            "\u001b[0;31m---------------------------------------------------------------------------\u001b[0m",
            "\u001b[0;31mKeyError\u001b[0m                                  Traceback (most recent call last)",
            "\u001b[0;32m/usr/local/lib/python3.7/dist-packages/pandas/core/indexes/base.py\u001b[0m in \u001b[0;36mget_loc\u001b[0;34m(self, key, method, tolerance)\u001b[0m\n\u001b[1;32m   2897\u001b[0m             \u001b[0;32mtry\u001b[0m\u001b[0;34m:\u001b[0m\u001b[0;34m\u001b[0m\u001b[0;34m\u001b[0m\u001b[0m\n\u001b[0;32m-> 2898\u001b[0;31m                 \u001b[0;32mreturn\u001b[0m \u001b[0mself\u001b[0m\u001b[0;34m.\u001b[0m\u001b[0m_engine\u001b[0m\u001b[0;34m.\u001b[0m\u001b[0mget_loc\u001b[0m\u001b[0;34m(\u001b[0m\u001b[0mcasted_key\u001b[0m\u001b[0;34m)\u001b[0m\u001b[0;34m\u001b[0m\u001b[0;34m\u001b[0m\u001b[0m\n\u001b[0m\u001b[1;32m   2899\u001b[0m             \u001b[0;32mexcept\u001b[0m \u001b[0mKeyError\u001b[0m \u001b[0;32mas\u001b[0m \u001b[0merr\u001b[0m\u001b[0;34m:\u001b[0m\u001b[0;34m\u001b[0m\u001b[0;34m\u001b[0m\u001b[0m\n",
            "\u001b[0;32mpandas/_libs/index.pyx\u001b[0m in \u001b[0;36mpandas._libs.index.IndexEngine.get_loc\u001b[0;34m()\u001b[0m\n",
            "\u001b[0;32mpandas/_libs/index.pyx\u001b[0m in \u001b[0;36mpandas._libs.index.IndexEngine.get_loc\u001b[0;34m()\u001b[0m\n",
            "\u001b[0;32mpandas/_libs/hashtable_class_helper.pxi\u001b[0m in \u001b[0;36mpandas._libs.hashtable.PyObjectHashTable.get_item\u001b[0;34m()\u001b[0m\n",
            "\u001b[0;32mpandas/_libs/hashtable_class_helper.pxi\u001b[0m in \u001b[0;36mpandas._libs.hashtable.PyObjectHashTable.get_item\u001b[0;34m()\u001b[0m\n",
            "\u001b[0;31mKeyError\u001b[0m: 'text_clean'",
            "\nThe above exception was the direct cause of the following exception:\n",
            "\u001b[0;31mKeyError\u001b[0m                                  Traceback (most recent call last)",
            "\u001b[0;32m<ipython-input-44-108e61b5d665>\u001b[0m in \u001b[0;36m<module>\u001b[0;34m()\u001b[0m\n\u001b[0;32m----> 1\u001b[0;31m \u001b[0mdtf\u001b[0m\u001b[0;34m[\u001b[0m\u001b[0;34m\"text_clean\"\u001b[0m\u001b[0;34m]\u001b[0m\u001b[0;34m.\u001b[0m\u001b[0mhead\u001b[0m\u001b[0;34m(\u001b[0m\u001b[0;34m)\u001b[0m\u001b[0;34m\u001b[0m\u001b[0;34m\u001b[0m\u001b[0m\n\u001b[0m\u001b[1;32m      2\u001b[0m \u001b[0;31m## function to apply\u001b[0m\u001b[0;34m\u001b[0m\u001b[0;34m\u001b[0m\u001b[0;34m\u001b[0m\u001b[0m\n\u001b[1;32m      3\u001b[0m \u001b[0;32mdef\u001b[0m \u001b[0mutils_bert_embedding\u001b[0m\u001b[0;34m(\u001b[0m\u001b[0mtxt\u001b[0m\u001b[0;34m,\u001b[0m \u001b[0mtokenizer\u001b[0m\u001b[0;34m,\u001b[0m \u001b[0mnlp\u001b[0m\u001b[0;34m)\u001b[0m\u001b[0;34m:\u001b[0m\u001b[0;34m\u001b[0m\u001b[0;34m\u001b[0m\u001b[0m\n\u001b[1;32m      4\u001b[0m     \u001b[0midx\u001b[0m \u001b[0;34m=\u001b[0m \u001b[0mtokenizer\u001b[0m\u001b[0;34m.\u001b[0m\u001b[0mencode\u001b[0m\u001b[0;34m(\u001b[0m\u001b[0mtxt\u001b[0m\u001b[0;34m)\u001b[0m\u001b[0;34m\u001b[0m\u001b[0;34m\u001b[0m\u001b[0m\n\u001b[1;32m      5\u001b[0m     \u001b[0midx\u001b[0m \u001b[0;34m=\u001b[0m \u001b[0mnp\u001b[0m\u001b[0;34m.\u001b[0m\u001b[0marray\u001b[0m\u001b[0;34m(\u001b[0m\u001b[0midx\u001b[0m\u001b[0;34m)\u001b[0m\u001b[0;34m[\u001b[0m\u001b[0;32mNone\u001b[0m\u001b[0;34m,\u001b[0m\u001b[0;34m:\u001b[0m\u001b[0;34m]\u001b[0m\u001b[0;34m\u001b[0m\u001b[0;34m\u001b[0m\u001b[0m\n",
            "\u001b[0;32m/usr/local/lib/python3.7/dist-packages/pandas/core/frame.py\u001b[0m in \u001b[0;36m__getitem__\u001b[0;34m(self, key)\u001b[0m\n\u001b[1;32m   2904\u001b[0m             \u001b[0;32mif\u001b[0m \u001b[0mself\u001b[0m\u001b[0;34m.\u001b[0m\u001b[0mcolumns\u001b[0m\u001b[0;34m.\u001b[0m\u001b[0mnlevels\u001b[0m \u001b[0;34m>\u001b[0m \u001b[0;36m1\u001b[0m\u001b[0;34m:\u001b[0m\u001b[0;34m\u001b[0m\u001b[0;34m\u001b[0m\u001b[0m\n\u001b[1;32m   2905\u001b[0m                 \u001b[0;32mreturn\u001b[0m \u001b[0mself\u001b[0m\u001b[0;34m.\u001b[0m\u001b[0m_getitem_multilevel\u001b[0m\u001b[0;34m(\u001b[0m\u001b[0mkey\u001b[0m\u001b[0;34m)\u001b[0m\u001b[0;34m\u001b[0m\u001b[0;34m\u001b[0m\u001b[0m\n\u001b[0;32m-> 2906\u001b[0;31m             \u001b[0mindexer\u001b[0m \u001b[0;34m=\u001b[0m \u001b[0mself\u001b[0m\u001b[0;34m.\u001b[0m\u001b[0mcolumns\u001b[0m\u001b[0;34m.\u001b[0m\u001b[0mget_loc\u001b[0m\u001b[0;34m(\u001b[0m\u001b[0mkey\u001b[0m\u001b[0;34m)\u001b[0m\u001b[0;34m\u001b[0m\u001b[0;34m\u001b[0m\u001b[0m\n\u001b[0m\u001b[1;32m   2907\u001b[0m             \u001b[0;32mif\u001b[0m \u001b[0mis_integer\u001b[0m\u001b[0;34m(\u001b[0m\u001b[0mindexer\u001b[0m\u001b[0;34m)\u001b[0m\u001b[0;34m:\u001b[0m\u001b[0;34m\u001b[0m\u001b[0;34m\u001b[0m\u001b[0m\n\u001b[1;32m   2908\u001b[0m                 \u001b[0mindexer\u001b[0m \u001b[0;34m=\u001b[0m \u001b[0;34m[\u001b[0m\u001b[0mindexer\u001b[0m\u001b[0;34m]\u001b[0m\u001b[0;34m\u001b[0m\u001b[0;34m\u001b[0m\u001b[0m\n",
            "\u001b[0;32m/usr/local/lib/python3.7/dist-packages/pandas/core/indexes/base.py\u001b[0m in \u001b[0;36mget_loc\u001b[0;34m(self, key, method, tolerance)\u001b[0m\n\u001b[1;32m   2898\u001b[0m                 \u001b[0;32mreturn\u001b[0m \u001b[0mself\u001b[0m\u001b[0;34m.\u001b[0m\u001b[0m_engine\u001b[0m\u001b[0;34m.\u001b[0m\u001b[0mget_loc\u001b[0m\u001b[0;34m(\u001b[0m\u001b[0mcasted_key\u001b[0m\u001b[0;34m)\u001b[0m\u001b[0;34m\u001b[0m\u001b[0;34m\u001b[0m\u001b[0m\n\u001b[1;32m   2899\u001b[0m             \u001b[0;32mexcept\u001b[0m \u001b[0mKeyError\u001b[0m \u001b[0;32mas\u001b[0m \u001b[0merr\u001b[0m\u001b[0;34m:\u001b[0m\u001b[0;34m\u001b[0m\u001b[0;34m\u001b[0m\u001b[0m\n\u001b[0;32m-> 2900\u001b[0;31m                 \u001b[0;32mraise\u001b[0m \u001b[0mKeyError\u001b[0m\u001b[0;34m(\u001b[0m\u001b[0mkey\u001b[0m\u001b[0;34m)\u001b[0m \u001b[0;32mfrom\u001b[0m \u001b[0merr\u001b[0m\u001b[0;34m\u001b[0m\u001b[0;34m\u001b[0m\u001b[0m\n\u001b[0m\u001b[1;32m   2901\u001b[0m \u001b[0;34m\u001b[0m\u001b[0m\n\u001b[1;32m   2902\u001b[0m         \u001b[0;32mif\u001b[0m \u001b[0mtolerance\u001b[0m \u001b[0;32mis\u001b[0m \u001b[0;32mnot\u001b[0m \u001b[0;32mNone\u001b[0m\u001b[0;34m:\u001b[0m\u001b[0;34m\u001b[0m\u001b[0;34m\u001b[0m\u001b[0m\n",
            "\u001b[0;31mKeyError\u001b[0m: 'text_clean'"
          ]
        }
      ]
    }
  ]
}